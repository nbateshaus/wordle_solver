{
  "cells": [
    {
      "cell_type": "code",
      "execution_count": 1,
      "id": "ff36b202",
      "metadata": {
        "id": "ff36b202"
      },
      "outputs": [],
      "source": [
        "import re\n",
        "# Five letters, not a proper noun\n",
        "wordle_word = re.compile(r\"^[a-z]....$\")"
      ]
    },
    {
      "cell_type": "code",
      "source": [
        "import urllib.request\n",
        "with urllib.request.urlopen(\"https://web.mit.edu/freebsd/head/share/dict/web2\") as w:\n",
        "    words = [word for word in w.read().decode(\"utf-8\").splitlines() if wordle_word.match(word)]"
      ],
      "metadata": {
        "id": "RohX6_bZVEdz"
      },
      "id": "RohX6_bZVEdz",
      "execution_count": 2,
      "outputs": []
    },
    {
      "cell_type": "code",
      "execution_count": 3,
      "id": "e2159a9a",
      "metadata": {
        "id": "e2159a9a",
        "outputId": "23c55ae3-689d-41de-d1f4-43c5c680ea41",
        "colab": {
          "base_uri": "https://localhost:8080/"
        }
      },
      "outputs": [
        {
          "output_type": "stream",
          "name": "stdout",
          "text": [
            "5112: party\n"
          ]
        }
      ],
      "source": [
        "import random\n",
        "i = random.randrange(len(words))\n",
        "correct = words[i]\n",
        "print(f\"{i}: {correct}\")"
      ]
    },
    {
      "cell_type": "code",
      "source": [
        "quiet = False"
      ],
      "metadata": {
        "id": "aM23gg7v325v"
      },
      "id": "aM23gg7v325v",
      "execution_count": 4,
      "outputs": []
    },
    {
      "cell_type": "code",
      "execution_count": 5,
      "id": "aebde3bb",
      "metadata": {
        "id": "aebde3bb"
      },
      "outputs": [],
      "source": [
        "def wordle_round(guess, correct):\n",
        "    result = \"\"\n",
        "    for i in range(5):\n",
        "        if guess[i] == correct[i]:\n",
        "            result = result + \"+\"\n",
        "        elif guess[i] in correct:\n",
        "            result = result + \"o\"\n",
        "        else:\n",
        "            result = result + \"-\"\n",
        "    return result"
      ]
    },
    {
      "cell_type": "code",
      "execution_count": 6,
      "id": "3739da00",
      "metadata": {
        "id": "3739da00"
      },
      "outputs": [],
      "source": [
        "def process_result(guess, result, exact, exactnt, must, mustnt):\n",
        "    for i in range(5):\n",
        "        if result[i] == \"+\":\n",
        "            exact[i] = guess[i]\n",
        "            must.add(guess[i])\n",
        "        elif result[i] == \"o\":\n",
        "            exactnt[i].add(guess[i])\n",
        "            must.add(guess[i])\n",
        "        else:\n",
        "            mustnt.add(guess[i])\n",
        "    return exact, exactnt, must, mustnt"
      ]
    },
    {
      "cell_type": "code",
      "execution_count": 14,
      "id": "26a281c8",
      "metadata": {
        "id": "26a281c8"
      },
      "outputs": [],
      "source": [
        "from tqdm.notebook import trange\n",
        "def next_guess(exact, exactnt, must, mustnt, guesses):\n",
        "    # TODO: can combine these two\n",
        "    exactly = re.compile(\"^\" + \"\".join(exact) + \"$\")\n",
        "    exactntly = re.compile(\"^\" + \"\".join(\"[^\" + \"\".join(letters) + \"]\" if letters else \".\" for letters in exactnt) + \"$\")\n",
        "    filtered_words = [\n",
        "        word\n",
        "        for word in words\n",
        "        if word not in guesses and \\\n",
        "            exactly.match(word) and \\\n",
        "            exactntly.match(word) and \\\n",
        "            all(letter in word for letter in must) and \\\n",
        "            not any(letter in word for letter in mustnt)\n",
        "    ]\n",
        "    scores = { word: [0, 0] for word in filtered_words }\n",
        "    for i in trange(len(filtered_words)):\n",
        "        test = filtered_words[i]\n",
        "        for j in range(i + 1, len(filtered_words)):\n",
        "            target = filtered_words[j]\n",
        "            if any(letter in target for letter in test if letter not in must):\n",
        "                overlap = len(set(test).intersection(set(target)))\n",
        "                scores[test][0] += 1\n",
        "                scores[test][1] += overlap\n",
        "                scores[target][0] += 1\n",
        "                scores[target][1] += overlap\n",
        "    max_score = -1\n",
        "    guess = \"\"\n",
        "    remaining = len(filtered_words)\n",
        "    matching = set()\n",
        "    for word, score in scores.items():\n",
        "        # Round 1 of scoring: prefer retaining 4/5 of the solution space\n",
        "        adjusted_score = score[1]\n",
        "        if adjusted_score > max_score:\n",
        "            max_score = adjusted_score\n",
        "            guess = word\n",
        "            matching=set([word])\n",
        "        elif adjusted_score == max_score:\n",
        "            matching.add(word)\n",
        "    max_score = -1\n",
        "    for word in matching:\n",
        "        # Round 2 of scoring: prefer more letter overlap\n",
        "        adjusted_score = scores[word][0]\n",
        "        if adjusted_score > max_score:\n",
        "            max_score = adjusted_score\n",
        "            guess = word\n",
        "    if not quiet:\n",
        "        print(matching)\n",
        "        print(f\"{scores[guess]}\")\n",
        "    return guess, remaining"
      ]
    },
    {
      "cell_type": "code",
      "execution_count": 15,
      "id": "3b263dfe",
      "metadata": {
        "id": "3b263dfe"
      },
      "outputs": [],
      "source": [
        "def starting_word():\n",
        "    # Run this when changing next_guess to re-compute an optimal initial guess\n",
        "    exact = [\".\"] * 5\n",
        "    exactnt = [set(), set(), set(), set(), set()]\n",
        "    must = set()\n",
        "    mustnt = set()\n",
        "    guesses = []\n",
        "    guess, outof = next_guess(exact, exactnt, must, mustnt, guesses)\n",
        "    print(f\"Initial guess: {guess} out of {outof}\")\n",
        "    return guess, outof"
      ]
    },
    {
      "cell_type": "code",
      "execution_count": 16,
      "id": "b5379d1e",
      "metadata": {
        "id": "b5379d1e"
      },
      "outputs": [],
      "source": [
        "def play(correct):\n",
        "    #guess = \"ourie\"\n",
        "    #guess = \"irate\"\n",
        "    #guess = \"rutic\"\n",
        "    guess = \"arose\"\n",
        "    exact = [\".\"] * 5\n",
        "    exactnt = [set(), set(), set(), set(), set()] # can't use [set()] * 5\n",
        "    must = set()\n",
        "    mustnt = set()\n",
        "    guesses = []\n",
        "    r = 1\n",
        "    while r < 100:\n",
        "        print(f\"round {r}:\")\n",
        "        print(f\"{guess}\")\n",
        "        result = wordle_round(guess, correct)\n",
        "        print(f\"{result}\")\n",
        "        if result == \"+++++\":\n",
        "            break\n",
        "        r += 1\n",
        "        guesses.append(guess)\n",
        "        exact, exactnt, must, mustnt = process_result(guess, result, exact, exactnt, must, mustnt)\n",
        "        if not quiet:\n",
        "            print(\"required   letters: \" + \"\".join(must))\n",
        "            print(\"prohibited letters: \" + \"\".join(mustnt))\n",
        "            print(\"required   pattern: \" + \"\".join(exact))\n",
        "            print(\"prohibited pattern: \" + \", \".join(\"\".join(letters) for letters in exactnt))\n",
        "        guess, outof = next_guess(exact, exactnt, must, mustnt, guesses)\n",
        "        if not quiet:\n",
        "            print(f\"{outof} words remaining\")\n",
        "            print()\n",
        "    return r"
      ]
    },
    {
      "cell_type": "code",
      "execution_count": 17,
      "id": "3ffc9e8a",
      "metadata": {
        "id": "3ffc9e8a",
        "outputId": "686ab619-d1cc-40c3-ec25-df3557b334f9",
        "colab": {
          "base_uri": "https://localhost:8080/",
          "height": 779,
          "referenced_widgets": [
            "efc54f0cd50744d49cb15818f1848544",
            "b01b999a75894c01a0e2685cdf7c6914",
            "bcea5abe5454445d9164096f05ff4d71",
            "d4d4404fffec484ea35b5eca36dd2976",
            "b94465f0e69d44e2a6376f751a657e39",
            "65d6b4f52a3345489c35fb569de5fd4b",
            "095fb1a09f5b40c29fac0cd058d194ba",
            "05fe4ece1ee2428ba1c9db61433b7a86",
            "e186eed6248542e3b5ef4aa0b8664ddd",
            "6ce3c188fdac4cd0a38a2a02a5bee7e3",
            "0865bdd9965f43f791f925f1ee7c26d3",
            "5d822aa022d34e4fb7b37ffe4008b7c2",
            "9ac11b8dc6a94a7db38e2a2b9af1838f",
            "33f97412616946c6beca466d9461270c",
            "cf0b5834782043c78fc38c2e64193dca",
            "25cd8e5343ed4368a31b77f1da76dddb",
            "337df210603c4e47ae6e794eeabd5322",
            "c88f67211a6f45d883b51bf0d7184b80",
            "0524d012a2d04e98843497b59b38c555",
            "c0c9290034fd4390abc1737cd6bef270",
            "7b0b7c6312874fc98dbd808533de1f0f",
            "41d821a7dbb749adaa05cbeb5d935351",
            "f7d4c1931d174f5c9b91dd3030e51856",
            "daf7d552386d4fa59a406dc5d5107564",
            "d598c06dc9b140b9b18084296bfdcfcd",
            "d18c7c4f493141a8a7cd46097504d9f0",
            "96abe5d8081e4b818589dc0ae5e8fea0",
            "dd9802dbfbcb47f3af68e2f9e44baa32",
            "de277f2d5ae14631a79d3e76f63b5f19",
            "21d55c9855fc406f8a154d6b0b0727a9",
            "a562dc0ada6c4a1b847e61924ba03284",
            "9e61e79f83b840e89e7de7d85890b5cc",
            "6bc2095a83714d2e87e9c2710c90b92b"
          ]
        }
      },
      "outputs": [
        {
          "output_type": "stream",
          "name": "stdout",
          "text": [
            "round 1:\n",
            "arose\n",
            "oo---\n",
            "required   letters: ra\n",
            "prohibited letters: soe\n",
            "required   pattern: .....\n",
            "prohibited pattern: a, r, , , \n"
          ]
        },
        {
          "output_type": "display_data",
          "data": {
            "application/vnd.jupyter.widget-view+json": {
              "model_id": "efc54f0cd50744d49cb15818f1848544",
              "version_minor": 0,
              "version_major": 2
            },
            "text/plain": [
              "  0%|          | 0/320 [00:00<?, ?it/s]"
            ]
          },
          "metadata": {}
        },
        {
          "output_type": "stream",
          "name": "stdout",
          "text": [
            "{'tayir'}\n",
            "[210, 670]\n",
            "320 words remaining\n",
            "\n",
            "round 2:\n",
            "tayir\n",
            "o+o-o\n",
            "required   letters: ryat\n",
            "prohibited letters: soei\n",
            "required   pattern: .a...\n",
            "prohibited pattern: at, r, y, , r\n"
          ]
        },
        {
          "output_type": "display_data",
          "data": {
            "application/vnd.jupyter.widget-view+json": {
              "model_id": "5d822aa022d34e4fb7b37ffe4008b7c2",
              "version_minor": 0,
              "version_major": 2
            },
            "text/plain": [
              "  0%|          | 0/7 [00:00<?, ?it/s]"
            ]
          },
          "metadata": {}
        },
        {
          "output_type": "stream",
          "name": "stdout",
          "text": [
            "{'yarth', 'ratty', 'carty', 'warty', 'rafty', 'party', 'ranty'}\n",
            "[0, 0]\n",
            "7 words remaining\n",
            "\n",
            "round 3:\n",
            "yarth\n",
            "o+++-\n",
            "required   letters: ryat\n",
            "prohibited letters: sheio\n",
            "required   pattern: .art.\n",
            "prohibited pattern: yat, r, y, , r\n"
          ]
        },
        {
          "output_type": "display_data",
          "data": {
            "application/vnd.jupyter.widget-view+json": {
              "model_id": "f7d4c1931d174f5c9b91dd3030e51856",
              "version_minor": 0,
              "version_major": 2
            },
            "text/plain": [
              "  0%|          | 0/3 [00:00<?, ?it/s]"
            ]
          },
          "metadata": {}
        },
        {
          "output_type": "stream",
          "name": "stdout",
          "text": [
            "{'party', 'carty', 'warty'}\n",
            "[0, 0]\n",
            "3 words remaining\n",
            "\n",
            "round 4:\n",
            "party\n",
            "+++++\n"
          ]
        },
        {
          "output_type": "execute_result",
          "data": {
            "text/plain": [
              "4"
            ]
          },
          "metadata": {},
          "execution_count": 17
        }
      ],
      "source": [
        "play(correct)"
      ]
    },
    {
      "cell_type": "code",
      "execution_count": null,
      "id": "1a44ab22",
      "metadata": {
        "id": "1a44ab22"
      },
      "outputs": [],
      "source": [
        "play(\"tabet\")"
      ]
    },
    {
      "cell_type": "code",
      "execution_count": null,
      "id": "30744762",
      "metadata": {
        "id": "30744762",
        "outputId": "a934f62f-3007-4631-af63-a1cab1b8cb28"
      },
      "outputs": [
        {
          "name": "stdout",
          "output_type": "stream",
          "text": [
            "required   letters: aet\n",
            "prohibited letters: ir\n",
            "required   pattern: .....\n",
            "prohibited pattern: , , a, t, e\n",
            "laten\n",
            "97 words remaining\n"
          ]
        }
      ],
      "source": [
        "guess = \"irate\"\n",
        "exact = [\".\"] * 5\n",
        "exactnt = [set(), set(), set(), set(), set()] # can't use [set()] * 5\n",
        "must = set()\n",
        "mustnt = set()\n",
        "guesses = [ \"ental\" ]\n",
        "r = 1\n",
        "result = \"--ooo\"\n",
        "guesses.append(guess)\n",
        "exact, exactnt, must, mustnt = process_result(guess, result, exact, exactnt, must, mustnt)\n",
        "print(\"required   letters: \" + \"\".join(must))\n",
        "print(\"prohibited letters: \" + \"\".join(mustnt))\n",
        "print(\"required   pattern: \" + \"\".join(exact))\n",
        "print(\"prohibited pattern: \" + \", \".join(\"\".join(letters) for letters in exactnt))\n",
        "guess, outof = next_guess(exact, exactnt, must, mustnt, guesses)\n",
        "print(guess)\n",
        "print(f\"{outof} words remaining\")\n"
      ]
    },
    {
      "cell_type": "code",
      "execution_count": null,
      "id": "918c71b5",
      "metadata": {
        "id": "918c71b5",
        "outputId": "ad58be71-d492-4c8c-9af9-9884ef3fd723"
      },
      "outputs": [
        {
          "name": "stdout",
          "output_type": "stream",
          "text": [
            "required   letters: alet\n",
            "prohibited letters: nir\n",
            "required   pattern: .....\n",
            "prohibited pattern: l, a, at, et, e\n",
            "pleat\n",
            "10 words remaining\n"
          ]
        }
      ],
      "source": [
        "result = \"oooo-\"\n",
        "guesses.append(guess)\n",
        "exact, exactnt, must, mustnt = process_result(guess, result, exact, exactnt, must, mustnt)\n",
        "print(\"required   letters: \" + \"\".join(must))\n",
        "print(\"prohibited letters: \" + \"\".join(mustnt))\n",
        "print(\"required   pattern: \" + \"\".join(exact))\n",
        "print(\"prohibited pattern: \" + \", \".join(\"\".join(letters) for letters in exactnt))\n",
        "guess, outof = next_guess(exact, exactnt, must, mustnt, guesses)\n",
        "print(guess)\n",
        "print(f\"{outof} words remaining\")\n"
      ]
    },
    {
      "cell_type": "code",
      "execution_count": null,
      "id": "4479301d",
      "metadata": {
        "id": "4479301d",
        "outputId": "c7dacbd2-bac1-4fa3-8920-6e6e13cc42f6"
      },
      "outputs": [
        {
          "name": "stdout",
          "output_type": "stream",
          "text": [
            "required   letters: hars\n",
            "prohibited letters: tepiouyk\n",
            "required   pattern: shar.\n",
            "prohibited pattern: , a, r, , r\n",
            "shard\n",
            "2 words remaining\n"
          ]
        }
      ],
      "source": [
        "result = \"++++-\"\n",
        "guesses.append(guess)\n",
        "exact, exactnt, must, mustnt = process_result(guess, result, exact, exactnt, must, mustnt)\n",
        "print(\"required   letters: \" + \"\".join(must))\n",
        "print(\"prohibited letters: \" + \"\".join(mustnt))\n",
        "print(\"required   pattern: \" + \"\".join(exact))\n",
        "print(\"prohibited pattern: \" + \", \".join(\"\".join(letters) for letters in exactnt))\n",
        "guess, outof = next_guess(exact, exactnt, must, mustnt, guesses)\n",
        "print(guess)\n",
        "print(f\"{outof} words remaining\")"
      ]
    },
    {
      "cell_type": "code",
      "execution_count": null,
      "id": "348a31f6",
      "metadata": {
        "id": "348a31f6"
      },
      "outputs": [],
      "source": [
        "hist = [0] * 20\n",
        "for i in range(100):\n",
        "    rounds = play(words[random.randrange(len(words))])\n",
        "    hist[rounds] += 1\n",
        "print(hist)"
      ]
    },
    {
      "cell_type": "code",
      "execution_count": null,
      "id": "29400302",
      "metadata": {
        "id": "29400302",
        "outputId": "caddf0b1-a110-4e04-8868-33296205be4c"
      },
      "outputs": [
        {
          "data": {
            "text/plain": [
              "[0, 0, 2, 24, 44, 18, 8, 1, 0, 3, 0, 0, 0, 0, 0, 0, 0, 0, 0, 0]"
            ]
          },
          "execution_count": 34,
          "metadata": {},
          "output_type": "execute_result"
        }
      ],
      "source": [
        "hist"
      ]
    },
    {
      "cell_type": "code",
      "source": [
        "starting_word()"
      ],
      "metadata": {
        "id": "yweWS_q67VzM",
        "outputId": "9a947e0f-63bf-4a61-fe93-796e263069d1",
        "colab": {
          "base_uri": "https://localhost:8080/",
          "height": 193,
          "referenced_widgets": [
            "bf86496318934a67b48fd5175ad0aa4f",
            "9e24356676db4b55b45e3f41413019c7",
            "184f50d2275b48c1b06c25627e79dcbc",
            "6ac02182036a4742bfcbbbb09c96fb0f",
            "63a90509692341679d504e79db9c8f3c",
            "2b0d542ee08945178b17ca18c4009dca",
            "3dae6a701508490e9ff8496ffc5b9106",
            "6aadfc06f1284cf3bf2f20de9c687d23",
            "4cc27efe1e3d44d08de588974c2b9059",
            "4ce18b26269b4610bd94e13045bbefbd",
            "c6b41f24c3c04f2795ccf893b2316734"
          ]
        }
      },
      "id": "yweWS_q67VzM",
      "execution_count": 11,
      "outputs": [
        {
          "output_type": "stream",
          "name": "stdout",
          "text": [
            "filtered to 8498\n"
          ]
        },
        {
          "output_type": "display_data",
          "data": {
            "application/vnd.jupyter.widget-view+json": {
              "model_id": "bf86496318934a67b48fd5175ad0aa4f",
              "version_minor": 0,
              "version_major": 2
            },
            "text/plain": [
              "  0%|          | 0/8498 [00:00<?, ?it/s]"
            ]
          },
          "metadata": {}
        },
        {
          "output_type": "stream",
          "name": "stdout",
          "text": [
            "irate: [7894, 15009]\n",
            "rutic: [6798, 10769]\n",
            "ourie: [7823, 13249]\n",
            "{'arose'}\n",
            "[7959, 15067]\n",
            "Initial guess: arose out of 8498\n"
          ]
        },
        {
          "output_type": "execute_result",
          "data": {
            "text/plain": [
              "('arose', 8498)"
            ]
          },
          "metadata": {},
          "execution_count": 11
        }
      ]
    },
    {
      "cell_type": "code",
      "source": [
        ""
      ],
      "metadata": {
        "id": "HrRBXz6rA_0V"
      },
      "id": "HrRBXz6rA_0V",
      "execution_count": null,
      "outputs": []
    }
  ],
  "metadata": {
    "kernelspec": {
      "display_name": "Python 3 (ipykernel)",
      "language": "python",
      "name": "python3"
    },
    "language_info": {
      "codemirror_mode": {
        "name": "ipython",
        "version": 3
      },
      "file_extension": ".py",
      "mimetype": "text/x-python",
      "name": "python",
      "nbconvert_exporter": "python",
      "pygments_lexer": "ipython3",
      "version": "3.8.5"
    },
    "colab": {
      "name": "wordle_solver.ipynb",
      "provenance": []
    },
    "widgets": {
      "application/vnd.jupyter.widget-state+json": {
        "efc54f0cd50744d49cb15818f1848544": {
          "model_module": "@jupyter-widgets/controls",
          "model_name": "HBoxModel",
          "model_module_version": "1.5.0",
          "state": {
            "_view_name": "HBoxView",
            "_dom_classes": [],
            "_model_name": "HBoxModel",
            "_view_module": "@jupyter-widgets/controls",
            "_model_module_version": "1.5.0",
            "_view_count": null,
            "_view_module_version": "1.5.0",
            "box_style": "",
            "layout": "IPY_MODEL_b01b999a75894c01a0e2685cdf7c6914",
            "_model_module": "@jupyter-widgets/controls",
            "children": [
              "IPY_MODEL_bcea5abe5454445d9164096f05ff4d71",
              "IPY_MODEL_d4d4404fffec484ea35b5eca36dd2976",
              "IPY_MODEL_b94465f0e69d44e2a6376f751a657e39"
            ]
          }
        },
        "b01b999a75894c01a0e2685cdf7c6914": {
          "model_module": "@jupyter-widgets/base",
          "model_name": "LayoutModel",
          "model_module_version": "1.2.0",
          "state": {
            "_view_name": "LayoutView",
            "grid_template_rows": null,
            "right": null,
            "justify_content": null,
            "_view_module": "@jupyter-widgets/base",
            "overflow": null,
            "_model_module_version": "1.2.0",
            "_view_count": null,
            "flex_flow": null,
            "width": null,
            "min_width": null,
            "border": null,
            "align_items": null,
            "bottom": null,
            "_model_module": "@jupyter-widgets/base",
            "top": null,
            "grid_column": null,
            "overflow_y": null,
            "overflow_x": null,
            "grid_auto_flow": null,
            "grid_area": null,
            "grid_template_columns": null,
            "flex": null,
            "_model_name": "LayoutModel",
            "justify_items": null,
            "grid_row": null,
            "max_height": null,
            "align_content": null,
            "visibility": null,
            "align_self": null,
            "height": null,
            "min_height": null,
            "padding": null,
            "grid_auto_rows": null,
            "grid_gap": null,
            "max_width": null,
            "order": null,
            "_view_module_version": "1.2.0",
            "grid_template_areas": null,
            "object_position": null,
            "object_fit": null,
            "grid_auto_columns": null,
            "margin": null,
            "display": null,
            "left": null
          }
        },
        "bcea5abe5454445d9164096f05ff4d71": {
          "model_module": "@jupyter-widgets/controls",
          "model_name": "HTMLModel",
          "model_module_version": "1.5.0",
          "state": {
            "_view_name": "HTMLView",
            "style": "IPY_MODEL_65d6b4f52a3345489c35fb569de5fd4b",
            "_dom_classes": [],
            "description": "",
            "_model_name": "HTMLModel",
            "placeholder": "​",
            "_view_module": "@jupyter-widgets/controls",
            "_model_module_version": "1.5.0",
            "value": "100%",
            "_view_count": null,
            "_view_module_version": "1.5.0",
            "description_tooltip": null,
            "_model_module": "@jupyter-widgets/controls",
            "layout": "IPY_MODEL_095fb1a09f5b40c29fac0cd058d194ba"
          }
        },
        "d4d4404fffec484ea35b5eca36dd2976": {
          "model_module": "@jupyter-widgets/controls",
          "model_name": "FloatProgressModel",
          "model_module_version": "1.5.0",
          "state": {
            "_view_name": "ProgressView",
            "style": "IPY_MODEL_05fe4ece1ee2428ba1c9db61433b7a86",
            "_dom_classes": [],
            "description": "",
            "_model_name": "FloatProgressModel",
            "bar_style": "success",
            "max": 320,
            "_view_module": "@jupyter-widgets/controls",
            "_model_module_version": "1.5.0",
            "value": 320,
            "_view_count": null,
            "_view_module_version": "1.5.0",
            "orientation": "horizontal",
            "min": 0,
            "description_tooltip": null,
            "_model_module": "@jupyter-widgets/controls",
            "layout": "IPY_MODEL_e186eed6248542e3b5ef4aa0b8664ddd"
          }
        },
        "b94465f0e69d44e2a6376f751a657e39": {
          "model_module": "@jupyter-widgets/controls",
          "model_name": "HTMLModel",
          "model_module_version": "1.5.0",
          "state": {
            "_view_name": "HTMLView",
            "style": "IPY_MODEL_6ce3c188fdac4cd0a38a2a02a5bee7e3",
            "_dom_classes": [],
            "description": "",
            "_model_name": "HTMLModel",
            "placeholder": "​",
            "_view_module": "@jupyter-widgets/controls",
            "_model_module_version": "1.5.0",
            "value": " 320/320 [00:00&lt;00:00, 877.86it/s]",
            "_view_count": null,
            "_view_module_version": "1.5.0",
            "description_tooltip": null,
            "_model_module": "@jupyter-widgets/controls",
            "layout": "IPY_MODEL_0865bdd9965f43f791f925f1ee7c26d3"
          }
        },
        "65d6b4f52a3345489c35fb569de5fd4b": {
          "model_module": "@jupyter-widgets/controls",
          "model_name": "DescriptionStyleModel",
          "model_module_version": "1.5.0",
          "state": {
            "_view_name": "StyleView",
            "_model_name": "DescriptionStyleModel",
            "description_width": "",
            "_view_module": "@jupyter-widgets/base",
            "_model_module_version": "1.5.0",
            "_view_count": null,
            "_view_module_version": "1.2.0",
            "_model_module": "@jupyter-widgets/controls"
          }
        },
        "095fb1a09f5b40c29fac0cd058d194ba": {
          "model_module": "@jupyter-widgets/base",
          "model_name": "LayoutModel",
          "model_module_version": "1.2.0",
          "state": {
            "_view_name": "LayoutView",
            "grid_template_rows": null,
            "right": null,
            "justify_content": null,
            "_view_module": "@jupyter-widgets/base",
            "overflow": null,
            "_model_module_version": "1.2.0",
            "_view_count": null,
            "flex_flow": null,
            "width": null,
            "min_width": null,
            "border": null,
            "align_items": null,
            "bottom": null,
            "_model_module": "@jupyter-widgets/base",
            "top": null,
            "grid_column": null,
            "overflow_y": null,
            "overflow_x": null,
            "grid_auto_flow": null,
            "grid_area": null,
            "grid_template_columns": null,
            "flex": null,
            "_model_name": "LayoutModel",
            "justify_items": null,
            "grid_row": null,
            "max_height": null,
            "align_content": null,
            "visibility": null,
            "align_self": null,
            "height": null,
            "min_height": null,
            "padding": null,
            "grid_auto_rows": null,
            "grid_gap": null,
            "max_width": null,
            "order": null,
            "_view_module_version": "1.2.0",
            "grid_template_areas": null,
            "object_position": null,
            "object_fit": null,
            "grid_auto_columns": null,
            "margin": null,
            "display": null,
            "left": null
          }
        },
        "05fe4ece1ee2428ba1c9db61433b7a86": {
          "model_module": "@jupyter-widgets/controls",
          "model_name": "ProgressStyleModel",
          "model_module_version": "1.5.0",
          "state": {
            "_view_name": "StyleView",
            "_model_name": "ProgressStyleModel",
            "description_width": "",
            "_view_module": "@jupyter-widgets/base",
            "_model_module_version": "1.5.0",
            "_view_count": null,
            "_view_module_version": "1.2.0",
            "bar_color": null,
            "_model_module": "@jupyter-widgets/controls"
          }
        },
        "e186eed6248542e3b5ef4aa0b8664ddd": {
          "model_module": "@jupyter-widgets/base",
          "model_name": "LayoutModel",
          "model_module_version": "1.2.0",
          "state": {
            "_view_name": "LayoutView",
            "grid_template_rows": null,
            "right": null,
            "justify_content": null,
            "_view_module": "@jupyter-widgets/base",
            "overflow": null,
            "_model_module_version": "1.2.0",
            "_view_count": null,
            "flex_flow": null,
            "width": null,
            "min_width": null,
            "border": null,
            "align_items": null,
            "bottom": null,
            "_model_module": "@jupyter-widgets/base",
            "top": null,
            "grid_column": null,
            "overflow_y": null,
            "overflow_x": null,
            "grid_auto_flow": null,
            "grid_area": null,
            "grid_template_columns": null,
            "flex": null,
            "_model_name": "LayoutModel",
            "justify_items": null,
            "grid_row": null,
            "max_height": null,
            "align_content": null,
            "visibility": null,
            "align_self": null,
            "height": null,
            "min_height": null,
            "padding": null,
            "grid_auto_rows": null,
            "grid_gap": null,
            "max_width": null,
            "order": null,
            "_view_module_version": "1.2.0",
            "grid_template_areas": null,
            "object_position": null,
            "object_fit": null,
            "grid_auto_columns": null,
            "margin": null,
            "display": null,
            "left": null
          }
        },
        "6ce3c188fdac4cd0a38a2a02a5bee7e3": {
          "model_module": "@jupyter-widgets/controls",
          "model_name": "DescriptionStyleModel",
          "model_module_version": "1.5.0",
          "state": {
            "_view_name": "StyleView",
            "_model_name": "DescriptionStyleModel",
            "description_width": "",
            "_view_module": "@jupyter-widgets/base",
            "_model_module_version": "1.5.0",
            "_view_count": null,
            "_view_module_version": "1.2.0",
            "_model_module": "@jupyter-widgets/controls"
          }
        },
        "0865bdd9965f43f791f925f1ee7c26d3": {
          "model_module": "@jupyter-widgets/base",
          "model_name": "LayoutModel",
          "model_module_version": "1.2.0",
          "state": {
            "_view_name": "LayoutView",
            "grid_template_rows": null,
            "right": null,
            "justify_content": null,
            "_view_module": "@jupyter-widgets/base",
            "overflow": null,
            "_model_module_version": "1.2.0",
            "_view_count": null,
            "flex_flow": null,
            "width": null,
            "min_width": null,
            "border": null,
            "align_items": null,
            "bottom": null,
            "_model_module": "@jupyter-widgets/base",
            "top": null,
            "grid_column": null,
            "overflow_y": null,
            "overflow_x": null,
            "grid_auto_flow": null,
            "grid_area": null,
            "grid_template_columns": null,
            "flex": null,
            "_model_name": "LayoutModel",
            "justify_items": null,
            "grid_row": null,
            "max_height": null,
            "align_content": null,
            "visibility": null,
            "align_self": null,
            "height": null,
            "min_height": null,
            "padding": null,
            "grid_auto_rows": null,
            "grid_gap": null,
            "max_width": null,
            "order": null,
            "_view_module_version": "1.2.0",
            "grid_template_areas": null,
            "object_position": null,
            "object_fit": null,
            "grid_auto_columns": null,
            "margin": null,
            "display": null,
            "left": null
          }
        },
        "5d822aa022d34e4fb7b37ffe4008b7c2": {
          "model_module": "@jupyter-widgets/controls",
          "model_name": "HBoxModel",
          "model_module_version": "1.5.0",
          "state": {
            "_view_name": "HBoxView",
            "_dom_classes": [],
            "_model_name": "HBoxModel",
            "_view_module": "@jupyter-widgets/controls",
            "_model_module_version": "1.5.0",
            "_view_count": null,
            "_view_module_version": "1.5.0",
            "box_style": "",
            "layout": "IPY_MODEL_9ac11b8dc6a94a7db38e2a2b9af1838f",
            "_model_module": "@jupyter-widgets/controls",
            "children": [
              "IPY_MODEL_33f97412616946c6beca466d9461270c",
              "IPY_MODEL_cf0b5834782043c78fc38c2e64193dca",
              "IPY_MODEL_25cd8e5343ed4368a31b77f1da76dddb"
            ]
          }
        },
        "9ac11b8dc6a94a7db38e2a2b9af1838f": {
          "model_module": "@jupyter-widgets/base",
          "model_name": "LayoutModel",
          "model_module_version": "1.2.0",
          "state": {
            "_view_name": "LayoutView",
            "grid_template_rows": null,
            "right": null,
            "justify_content": null,
            "_view_module": "@jupyter-widgets/base",
            "overflow": null,
            "_model_module_version": "1.2.0",
            "_view_count": null,
            "flex_flow": null,
            "width": null,
            "min_width": null,
            "border": null,
            "align_items": null,
            "bottom": null,
            "_model_module": "@jupyter-widgets/base",
            "top": null,
            "grid_column": null,
            "overflow_y": null,
            "overflow_x": null,
            "grid_auto_flow": null,
            "grid_area": null,
            "grid_template_columns": null,
            "flex": null,
            "_model_name": "LayoutModel",
            "justify_items": null,
            "grid_row": null,
            "max_height": null,
            "align_content": null,
            "visibility": null,
            "align_self": null,
            "height": null,
            "min_height": null,
            "padding": null,
            "grid_auto_rows": null,
            "grid_gap": null,
            "max_width": null,
            "order": null,
            "_view_module_version": "1.2.0",
            "grid_template_areas": null,
            "object_position": null,
            "object_fit": null,
            "grid_auto_columns": null,
            "margin": null,
            "display": null,
            "left": null
          }
        },
        "33f97412616946c6beca466d9461270c": {
          "model_module": "@jupyter-widgets/controls",
          "model_name": "HTMLModel",
          "model_module_version": "1.5.0",
          "state": {
            "_view_name": "HTMLView",
            "style": "IPY_MODEL_337df210603c4e47ae6e794eeabd5322",
            "_dom_classes": [],
            "description": "",
            "_model_name": "HTMLModel",
            "placeholder": "​",
            "_view_module": "@jupyter-widgets/controls",
            "_model_module_version": "1.5.0",
            "value": "100%",
            "_view_count": null,
            "_view_module_version": "1.5.0",
            "description_tooltip": null,
            "_model_module": "@jupyter-widgets/controls",
            "layout": "IPY_MODEL_c88f67211a6f45d883b51bf0d7184b80"
          }
        },
        "cf0b5834782043c78fc38c2e64193dca": {
          "model_module": "@jupyter-widgets/controls",
          "model_name": "FloatProgressModel",
          "model_module_version": "1.5.0",
          "state": {
            "_view_name": "ProgressView",
            "style": "IPY_MODEL_0524d012a2d04e98843497b59b38c555",
            "_dom_classes": [],
            "description": "",
            "_model_name": "FloatProgressModel",
            "bar_style": "success",
            "max": 7,
            "_view_module": "@jupyter-widgets/controls",
            "_model_module_version": "1.5.0",
            "value": 7,
            "_view_count": null,
            "_view_module_version": "1.5.0",
            "orientation": "horizontal",
            "min": 0,
            "description_tooltip": null,
            "_model_module": "@jupyter-widgets/controls",
            "layout": "IPY_MODEL_c0c9290034fd4390abc1737cd6bef270"
          }
        },
        "25cd8e5343ed4368a31b77f1da76dddb": {
          "model_module": "@jupyter-widgets/controls",
          "model_name": "HTMLModel",
          "model_module_version": "1.5.0",
          "state": {
            "_view_name": "HTMLView",
            "style": "IPY_MODEL_7b0b7c6312874fc98dbd808533de1f0f",
            "_dom_classes": [],
            "description": "",
            "_model_name": "HTMLModel",
            "placeholder": "​",
            "_view_module": "@jupyter-widgets/controls",
            "_model_module_version": "1.5.0",
            "value": " 7/7 [00:00&lt;00:00, 184.62it/s]",
            "_view_count": null,
            "_view_module_version": "1.5.0",
            "description_tooltip": null,
            "_model_module": "@jupyter-widgets/controls",
            "layout": "IPY_MODEL_41d821a7dbb749adaa05cbeb5d935351"
          }
        },
        "337df210603c4e47ae6e794eeabd5322": {
          "model_module": "@jupyter-widgets/controls",
          "model_name": "DescriptionStyleModel",
          "model_module_version": "1.5.0",
          "state": {
            "_view_name": "StyleView",
            "_model_name": "DescriptionStyleModel",
            "description_width": "",
            "_view_module": "@jupyter-widgets/base",
            "_model_module_version": "1.5.0",
            "_view_count": null,
            "_view_module_version": "1.2.0",
            "_model_module": "@jupyter-widgets/controls"
          }
        },
        "c88f67211a6f45d883b51bf0d7184b80": {
          "model_module": "@jupyter-widgets/base",
          "model_name": "LayoutModel",
          "model_module_version": "1.2.0",
          "state": {
            "_view_name": "LayoutView",
            "grid_template_rows": null,
            "right": null,
            "justify_content": null,
            "_view_module": "@jupyter-widgets/base",
            "overflow": null,
            "_model_module_version": "1.2.0",
            "_view_count": null,
            "flex_flow": null,
            "width": null,
            "min_width": null,
            "border": null,
            "align_items": null,
            "bottom": null,
            "_model_module": "@jupyter-widgets/base",
            "top": null,
            "grid_column": null,
            "overflow_y": null,
            "overflow_x": null,
            "grid_auto_flow": null,
            "grid_area": null,
            "grid_template_columns": null,
            "flex": null,
            "_model_name": "LayoutModel",
            "justify_items": null,
            "grid_row": null,
            "max_height": null,
            "align_content": null,
            "visibility": null,
            "align_self": null,
            "height": null,
            "min_height": null,
            "padding": null,
            "grid_auto_rows": null,
            "grid_gap": null,
            "max_width": null,
            "order": null,
            "_view_module_version": "1.2.0",
            "grid_template_areas": null,
            "object_position": null,
            "object_fit": null,
            "grid_auto_columns": null,
            "margin": null,
            "display": null,
            "left": null
          }
        },
        "0524d012a2d04e98843497b59b38c555": {
          "model_module": "@jupyter-widgets/controls",
          "model_name": "ProgressStyleModel",
          "model_module_version": "1.5.0",
          "state": {
            "_view_name": "StyleView",
            "_model_name": "ProgressStyleModel",
            "description_width": "",
            "_view_module": "@jupyter-widgets/base",
            "_model_module_version": "1.5.0",
            "_view_count": null,
            "_view_module_version": "1.2.0",
            "bar_color": null,
            "_model_module": "@jupyter-widgets/controls"
          }
        },
        "c0c9290034fd4390abc1737cd6bef270": {
          "model_module": "@jupyter-widgets/base",
          "model_name": "LayoutModel",
          "model_module_version": "1.2.0",
          "state": {
            "_view_name": "LayoutView",
            "grid_template_rows": null,
            "right": null,
            "justify_content": null,
            "_view_module": "@jupyter-widgets/base",
            "overflow": null,
            "_model_module_version": "1.2.0",
            "_view_count": null,
            "flex_flow": null,
            "width": null,
            "min_width": null,
            "border": null,
            "align_items": null,
            "bottom": null,
            "_model_module": "@jupyter-widgets/base",
            "top": null,
            "grid_column": null,
            "overflow_y": null,
            "overflow_x": null,
            "grid_auto_flow": null,
            "grid_area": null,
            "grid_template_columns": null,
            "flex": null,
            "_model_name": "LayoutModel",
            "justify_items": null,
            "grid_row": null,
            "max_height": null,
            "align_content": null,
            "visibility": null,
            "align_self": null,
            "height": null,
            "min_height": null,
            "padding": null,
            "grid_auto_rows": null,
            "grid_gap": null,
            "max_width": null,
            "order": null,
            "_view_module_version": "1.2.0",
            "grid_template_areas": null,
            "object_position": null,
            "object_fit": null,
            "grid_auto_columns": null,
            "margin": null,
            "display": null,
            "left": null
          }
        },
        "7b0b7c6312874fc98dbd808533de1f0f": {
          "model_module": "@jupyter-widgets/controls",
          "model_name": "DescriptionStyleModel",
          "model_module_version": "1.5.0",
          "state": {
            "_view_name": "StyleView",
            "_model_name": "DescriptionStyleModel",
            "description_width": "",
            "_view_module": "@jupyter-widgets/base",
            "_model_module_version": "1.5.0",
            "_view_count": null,
            "_view_module_version": "1.2.0",
            "_model_module": "@jupyter-widgets/controls"
          }
        },
        "41d821a7dbb749adaa05cbeb5d935351": {
          "model_module": "@jupyter-widgets/base",
          "model_name": "LayoutModel",
          "model_module_version": "1.2.0",
          "state": {
            "_view_name": "LayoutView",
            "grid_template_rows": null,
            "right": null,
            "justify_content": null,
            "_view_module": "@jupyter-widgets/base",
            "overflow": null,
            "_model_module_version": "1.2.0",
            "_view_count": null,
            "flex_flow": null,
            "width": null,
            "min_width": null,
            "border": null,
            "align_items": null,
            "bottom": null,
            "_model_module": "@jupyter-widgets/base",
            "top": null,
            "grid_column": null,
            "overflow_y": null,
            "overflow_x": null,
            "grid_auto_flow": null,
            "grid_area": null,
            "grid_template_columns": null,
            "flex": null,
            "_model_name": "LayoutModel",
            "justify_items": null,
            "grid_row": null,
            "max_height": null,
            "align_content": null,
            "visibility": null,
            "align_self": null,
            "height": null,
            "min_height": null,
            "padding": null,
            "grid_auto_rows": null,
            "grid_gap": null,
            "max_width": null,
            "order": null,
            "_view_module_version": "1.2.0",
            "grid_template_areas": null,
            "object_position": null,
            "object_fit": null,
            "grid_auto_columns": null,
            "margin": null,
            "display": null,
            "left": null
          }
        },
        "f7d4c1931d174f5c9b91dd3030e51856": {
          "model_module": "@jupyter-widgets/controls",
          "model_name": "HBoxModel",
          "model_module_version": "1.5.0",
          "state": {
            "_view_name": "HBoxView",
            "_dom_classes": [],
            "_model_name": "HBoxModel",
            "_view_module": "@jupyter-widgets/controls",
            "_model_module_version": "1.5.0",
            "_view_count": null,
            "_view_module_version": "1.5.0",
            "box_style": "",
            "layout": "IPY_MODEL_daf7d552386d4fa59a406dc5d5107564",
            "_model_module": "@jupyter-widgets/controls",
            "children": [
              "IPY_MODEL_d598c06dc9b140b9b18084296bfdcfcd",
              "IPY_MODEL_d18c7c4f493141a8a7cd46097504d9f0",
              "IPY_MODEL_96abe5d8081e4b818589dc0ae5e8fea0"
            ]
          }
        },
        "daf7d552386d4fa59a406dc5d5107564": {
          "model_module": "@jupyter-widgets/base",
          "model_name": "LayoutModel",
          "model_module_version": "1.2.0",
          "state": {
            "_view_name": "LayoutView",
            "grid_template_rows": null,
            "right": null,
            "justify_content": null,
            "_view_module": "@jupyter-widgets/base",
            "overflow": null,
            "_model_module_version": "1.2.0",
            "_view_count": null,
            "flex_flow": null,
            "width": null,
            "min_width": null,
            "border": null,
            "align_items": null,
            "bottom": null,
            "_model_module": "@jupyter-widgets/base",
            "top": null,
            "grid_column": null,
            "overflow_y": null,
            "overflow_x": null,
            "grid_auto_flow": null,
            "grid_area": null,
            "grid_template_columns": null,
            "flex": null,
            "_model_name": "LayoutModel",
            "justify_items": null,
            "grid_row": null,
            "max_height": null,
            "align_content": null,
            "visibility": null,
            "align_self": null,
            "height": null,
            "min_height": null,
            "padding": null,
            "grid_auto_rows": null,
            "grid_gap": null,
            "max_width": null,
            "order": null,
            "_view_module_version": "1.2.0",
            "grid_template_areas": null,
            "object_position": null,
            "object_fit": null,
            "grid_auto_columns": null,
            "margin": null,
            "display": null,
            "left": null
          }
        },
        "d598c06dc9b140b9b18084296bfdcfcd": {
          "model_module": "@jupyter-widgets/controls",
          "model_name": "HTMLModel",
          "model_module_version": "1.5.0",
          "state": {
            "_view_name": "HTMLView",
            "style": "IPY_MODEL_dd9802dbfbcb47f3af68e2f9e44baa32",
            "_dom_classes": [],
            "description": "",
            "_model_name": "HTMLModel",
            "placeholder": "​",
            "_view_module": "@jupyter-widgets/controls",
            "_model_module_version": "1.5.0",
            "value": "100%",
            "_view_count": null,
            "_view_module_version": "1.5.0",
            "description_tooltip": null,
            "_model_module": "@jupyter-widgets/controls",
            "layout": "IPY_MODEL_de277f2d5ae14631a79d3e76f63b5f19"
          }
        },
        "d18c7c4f493141a8a7cd46097504d9f0": {
          "model_module": "@jupyter-widgets/controls",
          "model_name": "FloatProgressModel",
          "model_module_version": "1.5.0",
          "state": {
            "_view_name": "ProgressView",
            "style": "IPY_MODEL_21d55c9855fc406f8a154d6b0b0727a9",
            "_dom_classes": [],
            "description": "",
            "_model_name": "FloatProgressModel",
            "bar_style": "success",
            "max": 3,
            "_view_module": "@jupyter-widgets/controls",
            "_model_module_version": "1.5.0",
            "value": 3,
            "_view_count": null,
            "_view_module_version": "1.5.0",
            "orientation": "horizontal",
            "min": 0,
            "description_tooltip": null,
            "_model_module": "@jupyter-widgets/controls",
            "layout": "IPY_MODEL_a562dc0ada6c4a1b847e61924ba03284"
          }
        },
        "96abe5d8081e4b818589dc0ae5e8fea0": {
          "model_module": "@jupyter-widgets/controls",
          "model_name": "HTMLModel",
          "model_module_version": "1.5.0",
          "state": {
            "_view_name": "HTMLView",
            "style": "IPY_MODEL_9e61e79f83b840e89e7de7d85890b5cc",
            "_dom_classes": [],
            "description": "",
            "_model_name": "HTMLModel",
            "placeholder": "​",
            "_view_module": "@jupyter-widgets/controls",
            "_model_module_version": "1.5.0",
            "value": " 3/3 [00:00&lt;00:00, 36.05it/s]",
            "_view_count": null,
            "_view_module_version": "1.5.0",
            "description_tooltip": null,
            "_model_module": "@jupyter-widgets/controls",
            "layout": "IPY_MODEL_6bc2095a83714d2e87e9c2710c90b92b"
          }
        },
        "dd9802dbfbcb47f3af68e2f9e44baa32": {
          "model_module": "@jupyter-widgets/controls",
          "model_name": "DescriptionStyleModel",
          "model_module_version": "1.5.0",
          "state": {
            "_view_name": "StyleView",
            "_model_name": "DescriptionStyleModel",
            "description_width": "",
            "_view_module": "@jupyter-widgets/base",
            "_model_module_version": "1.5.0",
            "_view_count": null,
            "_view_module_version": "1.2.0",
            "_model_module": "@jupyter-widgets/controls"
          }
        },
        "de277f2d5ae14631a79d3e76f63b5f19": {
          "model_module": "@jupyter-widgets/base",
          "model_name": "LayoutModel",
          "model_module_version": "1.2.0",
          "state": {
            "_view_name": "LayoutView",
            "grid_template_rows": null,
            "right": null,
            "justify_content": null,
            "_view_module": "@jupyter-widgets/base",
            "overflow": null,
            "_model_module_version": "1.2.0",
            "_view_count": null,
            "flex_flow": null,
            "width": null,
            "min_width": null,
            "border": null,
            "align_items": null,
            "bottom": null,
            "_model_module": "@jupyter-widgets/base",
            "top": null,
            "grid_column": null,
            "overflow_y": null,
            "overflow_x": null,
            "grid_auto_flow": null,
            "grid_area": null,
            "grid_template_columns": null,
            "flex": null,
            "_model_name": "LayoutModel",
            "justify_items": null,
            "grid_row": null,
            "max_height": null,
            "align_content": null,
            "visibility": null,
            "align_self": null,
            "height": null,
            "min_height": null,
            "padding": null,
            "grid_auto_rows": null,
            "grid_gap": null,
            "max_width": null,
            "order": null,
            "_view_module_version": "1.2.0",
            "grid_template_areas": null,
            "object_position": null,
            "object_fit": null,
            "grid_auto_columns": null,
            "margin": null,
            "display": null,
            "left": null
          }
        },
        "21d55c9855fc406f8a154d6b0b0727a9": {
          "model_module": "@jupyter-widgets/controls",
          "model_name": "ProgressStyleModel",
          "model_module_version": "1.5.0",
          "state": {
            "_view_name": "StyleView",
            "_model_name": "ProgressStyleModel",
            "description_width": "",
            "_view_module": "@jupyter-widgets/base",
            "_model_module_version": "1.5.0",
            "_view_count": null,
            "_view_module_version": "1.2.0",
            "bar_color": null,
            "_model_module": "@jupyter-widgets/controls"
          }
        },
        "a562dc0ada6c4a1b847e61924ba03284": {
          "model_module": "@jupyter-widgets/base",
          "model_name": "LayoutModel",
          "model_module_version": "1.2.0",
          "state": {
            "_view_name": "LayoutView",
            "grid_template_rows": null,
            "right": null,
            "justify_content": null,
            "_view_module": "@jupyter-widgets/base",
            "overflow": null,
            "_model_module_version": "1.2.0",
            "_view_count": null,
            "flex_flow": null,
            "width": null,
            "min_width": null,
            "border": null,
            "align_items": null,
            "bottom": null,
            "_model_module": "@jupyter-widgets/base",
            "top": null,
            "grid_column": null,
            "overflow_y": null,
            "overflow_x": null,
            "grid_auto_flow": null,
            "grid_area": null,
            "grid_template_columns": null,
            "flex": null,
            "_model_name": "LayoutModel",
            "justify_items": null,
            "grid_row": null,
            "max_height": null,
            "align_content": null,
            "visibility": null,
            "align_self": null,
            "height": null,
            "min_height": null,
            "padding": null,
            "grid_auto_rows": null,
            "grid_gap": null,
            "max_width": null,
            "order": null,
            "_view_module_version": "1.2.0",
            "grid_template_areas": null,
            "object_position": null,
            "object_fit": null,
            "grid_auto_columns": null,
            "margin": null,
            "display": null,
            "left": null
          }
        },
        "9e61e79f83b840e89e7de7d85890b5cc": {
          "model_module": "@jupyter-widgets/controls",
          "model_name": "DescriptionStyleModel",
          "model_module_version": "1.5.0",
          "state": {
            "_view_name": "StyleView",
            "_model_name": "DescriptionStyleModel",
            "description_width": "",
            "_view_module": "@jupyter-widgets/base",
            "_model_module_version": "1.5.0",
            "_view_count": null,
            "_view_module_version": "1.2.0",
            "_model_module": "@jupyter-widgets/controls"
          }
        },
        "6bc2095a83714d2e87e9c2710c90b92b": {
          "model_module": "@jupyter-widgets/base",
          "model_name": "LayoutModel",
          "model_module_version": "1.2.0",
          "state": {
            "_view_name": "LayoutView",
            "grid_template_rows": null,
            "right": null,
            "justify_content": null,
            "_view_module": "@jupyter-widgets/base",
            "overflow": null,
            "_model_module_version": "1.2.0",
            "_view_count": null,
            "flex_flow": null,
            "width": null,
            "min_width": null,
            "border": null,
            "align_items": null,
            "bottom": null,
            "_model_module": "@jupyter-widgets/base",
            "top": null,
            "grid_column": null,
            "overflow_y": null,
            "overflow_x": null,
            "grid_auto_flow": null,
            "grid_area": null,
            "grid_template_columns": null,
            "flex": null,
            "_model_name": "LayoutModel",
            "justify_items": null,
            "grid_row": null,
            "max_height": null,
            "align_content": null,
            "visibility": null,
            "align_self": null,
            "height": null,
            "min_height": null,
            "padding": null,
            "grid_auto_rows": null,
            "grid_gap": null,
            "max_width": null,
            "order": null,
            "_view_module_version": "1.2.0",
            "grid_template_areas": null,
            "object_position": null,
            "object_fit": null,
            "grid_auto_columns": null,
            "margin": null,
            "display": null,
            "left": null
          }
        },
        "bf86496318934a67b48fd5175ad0aa4f": {
          "model_module": "@jupyter-widgets/controls",
          "model_name": "HBoxModel",
          "model_module_version": "1.5.0",
          "state": {
            "_view_name": "HBoxView",
            "_dom_classes": [],
            "_model_name": "HBoxModel",
            "_view_module": "@jupyter-widgets/controls",
            "_model_module_version": "1.5.0",
            "_view_count": null,
            "_view_module_version": "1.5.0",
            "box_style": "",
            "layout": "IPY_MODEL_9e24356676db4b55b45e3f41413019c7",
            "_model_module": "@jupyter-widgets/controls",
            "children": [
              "IPY_MODEL_184f50d2275b48c1b06c25627e79dcbc",
              "IPY_MODEL_6ac02182036a4742bfcbbbb09c96fb0f",
              "IPY_MODEL_63a90509692341679d504e79db9c8f3c"
            ]
          }
        },
        "9e24356676db4b55b45e3f41413019c7": {
          "model_module": "@jupyter-widgets/base",
          "model_name": "LayoutModel",
          "model_module_version": "1.2.0",
          "state": {
            "_view_name": "LayoutView",
            "grid_template_rows": null,
            "right": null,
            "justify_content": null,
            "_view_module": "@jupyter-widgets/base",
            "overflow": null,
            "_model_module_version": "1.2.0",
            "_view_count": null,
            "flex_flow": null,
            "width": null,
            "min_width": null,
            "border": null,
            "align_items": null,
            "bottom": null,
            "_model_module": "@jupyter-widgets/base",
            "top": null,
            "grid_column": null,
            "overflow_y": null,
            "overflow_x": null,
            "grid_auto_flow": null,
            "grid_area": null,
            "grid_template_columns": null,
            "flex": null,
            "_model_name": "LayoutModel",
            "justify_items": null,
            "grid_row": null,
            "max_height": null,
            "align_content": null,
            "visibility": null,
            "align_self": null,
            "height": null,
            "min_height": null,
            "padding": null,
            "grid_auto_rows": null,
            "grid_gap": null,
            "max_width": null,
            "order": null,
            "_view_module_version": "1.2.0",
            "grid_template_areas": null,
            "object_position": null,
            "object_fit": null,
            "grid_auto_columns": null,
            "margin": null,
            "display": null,
            "left": null
          }
        },
        "184f50d2275b48c1b06c25627e79dcbc": {
          "model_module": "@jupyter-widgets/controls",
          "model_name": "HTMLModel",
          "model_module_version": "1.5.0",
          "state": {
            "_view_name": "HTMLView",
            "style": "IPY_MODEL_2b0d542ee08945178b17ca18c4009dca",
            "_dom_classes": [],
            "description": "",
            "_model_name": "HTMLModel",
            "placeholder": "​",
            "_view_module": "@jupyter-widgets/controls",
            "_model_module_version": "1.5.0",
            "value": "100%",
            "_view_count": null,
            "_view_module_version": "1.5.0",
            "description_tooltip": null,
            "_model_module": "@jupyter-widgets/controls",
            "layout": "IPY_MODEL_3dae6a701508490e9ff8496ffc5b9106"
          }
        },
        "6ac02182036a4742bfcbbbb09c96fb0f": {
          "model_module": "@jupyter-widgets/controls",
          "model_name": "FloatProgressModel",
          "model_module_version": "1.5.0",
          "state": {
            "_view_name": "ProgressView",
            "style": "IPY_MODEL_6aadfc06f1284cf3bf2f20de9c687d23",
            "_dom_classes": [],
            "description": "",
            "_model_name": "FloatProgressModel",
            "bar_style": "success",
            "max": 8498,
            "_view_module": "@jupyter-widgets/controls",
            "_model_module_version": "1.5.0",
            "value": 8498,
            "_view_count": null,
            "_view_module_version": "1.5.0",
            "orientation": "horizontal",
            "min": 0,
            "description_tooltip": null,
            "_model_module": "@jupyter-widgets/controls",
            "layout": "IPY_MODEL_4cc27efe1e3d44d08de588974c2b9059"
          }
        },
        "63a90509692341679d504e79db9c8f3c": {
          "model_module": "@jupyter-widgets/controls",
          "model_name": "HTMLModel",
          "model_module_version": "1.5.0",
          "state": {
            "_view_name": "HTMLView",
            "style": "IPY_MODEL_4ce18b26269b4610bd94e13045bbefbd",
            "_dom_classes": [],
            "description": "",
            "_model_name": "HTMLModel",
            "placeholder": "​",
            "_view_module": "@jupyter-widgets/controls",
            "_model_module_version": "1.5.0",
            "value": " 8498/8498 [01:38&lt;00:00, 987.41it/s]",
            "_view_count": null,
            "_view_module_version": "1.5.0",
            "description_tooltip": null,
            "_model_module": "@jupyter-widgets/controls",
            "layout": "IPY_MODEL_c6b41f24c3c04f2795ccf893b2316734"
          }
        },
        "2b0d542ee08945178b17ca18c4009dca": {
          "model_module": "@jupyter-widgets/controls",
          "model_name": "DescriptionStyleModel",
          "model_module_version": "1.5.0",
          "state": {
            "_view_name": "StyleView",
            "_model_name": "DescriptionStyleModel",
            "description_width": "",
            "_view_module": "@jupyter-widgets/base",
            "_model_module_version": "1.5.0",
            "_view_count": null,
            "_view_module_version": "1.2.0",
            "_model_module": "@jupyter-widgets/controls"
          }
        },
        "3dae6a701508490e9ff8496ffc5b9106": {
          "model_module": "@jupyter-widgets/base",
          "model_name": "LayoutModel",
          "model_module_version": "1.2.0",
          "state": {
            "_view_name": "LayoutView",
            "grid_template_rows": null,
            "right": null,
            "justify_content": null,
            "_view_module": "@jupyter-widgets/base",
            "overflow": null,
            "_model_module_version": "1.2.0",
            "_view_count": null,
            "flex_flow": null,
            "width": null,
            "min_width": null,
            "border": null,
            "align_items": null,
            "bottom": null,
            "_model_module": "@jupyter-widgets/base",
            "top": null,
            "grid_column": null,
            "overflow_y": null,
            "overflow_x": null,
            "grid_auto_flow": null,
            "grid_area": null,
            "grid_template_columns": null,
            "flex": null,
            "_model_name": "LayoutModel",
            "justify_items": null,
            "grid_row": null,
            "max_height": null,
            "align_content": null,
            "visibility": null,
            "align_self": null,
            "height": null,
            "min_height": null,
            "padding": null,
            "grid_auto_rows": null,
            "grid_gap": null,
            "max_width": null,
            "order": null,
            "_view_module_version": "1.2.0",
            "grid_template_areas": null,
            "object_position": null,
            "object_fit": null,
            "grid_auto_columns": null,
            "margin": null,
            "display": null,
            "left": null
          }
        },
        "6aadfc06f1284cf3bf2f20de9c687d23": {
          "model_module": "@jupyter-widgets/controls",
          "model_name": "ProgressStyleModel",
          "model_module_version": "1.5.0",
          "state": {
            "_view_name": "StyleView",
            "_model_name": "ProgressStyleModel",
            "description_width": "",
            "_view_module": "@jupyter-widgets/base",
            "_model_module_version": "1.5.0",
            "_view_count": null,
            "_view_module_version": "1.2.0",
            "bar_color": null,
            "_model_module": "@jupyter-widgets/controls"
          }
        },
        "4cc27efe1e3d44d08de588974c2b9059": {
          "model_module": "@jupyter-widgets/base",
          "model_name": "LayoutModel",
          "model_module_version": "1.2.0",
          "state": {
            "_view_name": "LayoutView",
            "grid_template_rows": null,
            "right": null,
            "justify_content": null,
            "_view_module": "@jupyter-widgets/base",
            "overflow": null,
            "_model_module_version": "1.2.0",
            "_view_count": null,
            "flex_flow": null,
            "width": null,
            "min_width": null,
            "border": null,
            "align_items": null,
            "bottom": null,
            "_model_module": "@jupyter-widgets/base",
            "top": null,
            "grid_column": null,
            "overflow_y": null,
            "overflow_x": null,
            "grid_auto_flow": null,
            "grid_area": null,
            "grid_template_columns": null,
            "flex": null,
            "_model_name": "LayoutModel",
            "justify_items": null,
            "grid_row": null,
            "max_height": null,
            "align_content": null,
            "visibility": null,
            "align_self": null,
            "height": null,
            "min_height": null,
            "padding": null,
            "grid_auto_rows": null,
            "grid_gap": null,
            "max_width": null,
            "order": null,
            "_view_module_version": "1.2.0",
            "grid_template_areas": null,
            "object_position": null,
            "object_fit": null,
            "grid_auto_columns": null,
            "margin": null,
            "display": null,
            "left": null
          }
        },
        "4ce18b26269b4610bd94e13045bbefbd": {
          "model_module": "@jupyter-widgets/controls",
          "model_name": "DescriptionStyleModel",
          "model_module_version": "1.5.0",
          "state": {
            "_view_name": "StyleView",
            "_model_name": "DescriptionStyleModel",
            "description_width": "",
            "_view_module": "@jupyter-widgets/base",
            "_model_module_version": "1.5.0",
            "_view_count": null,
            "_view_module_version": "1.2.0",
            "_model_module": "@jupyter-widgets/controls"
          }
        },
        "c6b41f24c3c04f2795ccf893b2316734": {
          "model_module": "@jupyter-widgets/base",
          "model_name": "LayoutModel",
          "model_module_version": "1.2.0",
          "state": {
            "_view_name": "LayoutView",
            "grid_template_rows": null,
            "right": null,
            "justify_content": null,
            "_view_module": "@jupyter-widgets/base",
            "overflow": null,
            "_model_module_version": "1.2.0",
            "_view_count": null,
            "flex_flow": null,
            "width": null,
            "min_width": null,
            "border": null,
            "align_items": null,
            "bottom": null,
            "_model_module": "@jupyter-widgets/base",
            "top": null,
            "grid_column": null,
            "overflow_y": null,
            "overflow_x": null,
            "grid_auto_flow": null,
            "grid_area": null,
            "grid_template_columns": null,
            "flex": null,
            "_model_name": "LayoutModel",
            "justify_items": null,
            "grid_row": null,
            "max_height": null,
            "align_content": null,
            "visibility": null,
            "align_self": null,
            "height": null,
            "min_height": null,
            "padding": null,
            "grid_auto_rows": null,
            "grid_gap": null,
            "max_width": null,
            "order": null,
            "_view_module_version": "1.2.0",
            "grid_template_areas": null,
            "object_position": null,
            "object_fit": null,
            "grid_auto_columns": null,
            "margin": null,
            "display": null,
            "left": null
          }
        }
      }
    }
  },
  "nbformat": 4,
  "nbformat_minor": 5
}