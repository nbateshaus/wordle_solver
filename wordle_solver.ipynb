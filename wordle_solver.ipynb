{
  "cells": [
    {
      "cell_type": "code",
      "execution_count": 1,
      "id": "ff36b202",
      "metadata": {
        "id": "ff36b202"
      },
      "outputs": [],
      "source": [
        "import re\n",
        "# Five letters, not a proper noun\n",
        "wordle_word = re.compile(r\"^[a-z]....$\")"
      ]
    },
    {
      "cell_type": "code",
      "source": [
        "import urllib.request\n",
        "with urllib.request.urlopen(\"https://web.mit.edu/freebsd/head/share/dict/web2\") as w:\n",
        "    words = [word for word in w.read().decode(\"utf-8\").splitlines() if wordle_word.match(word)]"
      ],
      "metadata": {
        "id": "RohX6_bZVEdz"
      },
      "id": "RohX6_bZVEdz",
      "execution_count": 2,
      "outputs": []
    },
    {
      "cell_type": "code",
      "execution_count": 3,
      "id": "e2159a9a",
      "metadata": {
        "id": "e2159a9a",
        "outputId": "23c55ae3-689d-41de-d1f4-43c5c680ea41",
        "colab": {
          "base_uri": "https://localhost:8080/"
        }
      },
      "outputs": [
        {
          "output_type": "stream",
          "name": "stdout",
          "text": [
            "5112: party\n"
          ]
        }
      ],
      "source": [
        "import random\n",
        "i = random.randrange(len(words))\n",
        "correct = words[i]\n",
        "print(f\"{i}: {correct}\")"
      ]
    },
    {
      "cell_type": "code",
      "source": [
        "quiet = False"
      ],
      "metadata": {
        "id": "aM23gg7v325v"
      },
      "id": "aM23gg7v325v",
      "execution_count": 4,
      "outputs": []
    },
    {
      "cell_type": "code",
      "execution_count": 5,
      "id": "aebde3bb",
      "metadata": {
        "id": "aebde3bb"
      },
      "outputs": [],
      "source": [
        "def wordle_round(guess, correct):\n",
        "    result = \"\"\n",
        "    for i in range(5):\n",
        "        if guess[i] == correct[i]:\n",
        "            result = result + \"+\"\n",
        "        elif guess[i] in correct:\n",
        "            result = result + \"o\"\n",
        "        else:\n",
        "            result = result + \"-\"\n",
        "    return result"
      ]
    },
    {
      "cell_type": "code",
      "execution_count": 6,
      "id": "3739da00",
      "metadata": {
        "id": "3739da00"
      },
      "outputs": [],
      "source": [
        "def process_result(guess, result, exact, exactnt, must, mustnt):\n",
        "    for i in range(5):\n",
        "        if result[i] == \"+\":\n",
        "            exact[i] = guess[i]\n",
        "            must.add(guess[i])\n",
        "        elif result[i] == \"o\":\n",
        "            exactnt[i].add(guess[i])\n",
        "            must.add(guess[i])\n",
        "        else:\n",
        "            mustnt.add(guess[i])\n",
        "    return exact, exactnt, must, mustnt"
      ]
    },
    {
      "cell_type": "code",
      "execution_count": 43,
      "id": "26a281c8",
      "metadata": {
        "id": "26a281c8"
      },
      "outputs": [],
      "source": [
        "from tqdm.notebook import trange\n",
        "def next_guess(exact, exactnt, must, mustnt, guesses):\n",
        "    combined = [\n",
        "        exact[i] if exact[i] != \".\" else\n",
        "        \"[^\" + \"\".join(exactnt[i]) + \"]\" if exactnt[i] else\n",
        "        \".\"\n",
        "        for i in range(5)\n",
        "    ]\n",
        "    exactly = re.compile(\"^\" + \"\".join(combined) + \"$\")\n",
        "    filtered_words = [\n",
        "        word\n",
        "        for word in words\n",
        "        if word not in guesses and \\\n",
        "            exactly.match(word) and \\\n",
        "            all(letter in word for letter in must) and \\\n",
        "            not any(letter in word for letter in mustnt)\n",
        "    ]\n",
        "    scores = { word: [0, 0] for word in filtered_words }\n",
        "    if quiet:\n",
        "        my_range = range\n",
        "    else:\n",
        "        my_range = trange\n",
        "    for i in my_range(len(filtered_words)):\n",
        "        test = filtered_words[i]\n",
        "        for j in range(i + 1, len(filtered_words)):\n",
        "            target = filtered_words[j]\n",
        "            if any(letter in target for letter in test if letter not in must):\n",
        "                overlap = len(set(test).intersection(set(target)))\n",
        "                scores[test][0] += 1\n",
        "                scores[test][1] += overlap\n",
        "                scores[target][0] += 1\n",
        "                scores[target][1] += overlap\n",
        "\n",
        "    # Round 1 of scoring: prefer words that get us the most info.\n",
        "    # We get info from each letter of overlap, or if there is no overlap.\n",
        "    # Since score[0] is the number of words with overlap, \n",
        "    # remaining - score[0] is the number of words with no overlap.\n",
        "    max_score = -1\n",
        "    guess = \"\"\n",
        "    remaining = len(filtered_words)\n",
        "    matching = set()\n",
        "    for word, score in scores.items():\n",
        "        adjusted_score = score[1] + remaining - score[0]\n",
        "        if adjusted_score > max_score:\n",
        "            max_score = adjusted_score\n",
        "            guess = word\n",
        "            matching=set([word])\n",
        "        elif adjusted_score == max_score:\n",
        "            matching.add(word)\n",
        "\n",
        "    # Round 2 of scoring: prefer more letter overlap\n",
        "    # Among the highest scoring words, prefer those that overlap more.\n",
        "    max_score = -1\n",
        "    for word in matching:\n",
        "        adjusted_score = scores[word][0]\n",
        "        if adjusted_score > max_score:\n",
        "            max_score = adjusted_score\n",
        "            guess = word\n",
        "    if not quiet:\n",
        "        print(matching)\n",
        "        print(f\"{scores[guess]}\")\n",
        "    return guess, remaining"
      ]
    },
    {
      "cell_type": "code",
      "execution_count": 15,
      "id": "3b263dfe",
      "metadata": {
        "id": "3b263dfe"
      },
      "outputs": [],
      "source": [
        "def starting_word():\n",
        "    # Run this when changing next_guess to re-compute an optimal initial guess\n",
        "    exact = [\".\"] * 5\n",
        "    exactnt = [set(), set(), set(), set(), set()]\n",
        "    must = set()\n",
        "    mustnt = set()\n",
        "    guesses = []\n",
        "    guess, outof = next_guess(exact, exactnt, must, mustnt, guesses)\n",
        "    print(f\"Initial guess: {guess} out of {outof}\")\n",
        "    return guess, outof"
      ]
    },
    {
      "cell_type": "code",
      "execution_count": 39,
      "id": "b5379d1e",
      "metadata": {
        "id": "b5379d1e"
      },
      "outputs": [],
      "source": [
        "def play(correct):\n",
        "    #guess = \"ourie\"\n",
        "    guess = \"irate\"\n",
        "    #guess = \"rutic\"\n",
        "    #guess = \"arose\"\n",
        "    exact = [\".\"] * 5\n",
        "    exactnt = [set(), set(), set(), set(), set()] # can't use [set()] * 5\n",
        "    must = set()\n",
        "    mustnt = set()\n",
        "    guesses = []\n",
        "    r = 1\n",
        "    while r < 100:\n",
        "        if not quiet:\n",
        "            print(f\"round {r}:\")\n",
        "            print(f\"{guess}\")\n",
        "        result = wordle_round(guess, correct)\n",
        "        if not quiet:\n",
        "            print(f\"{result}\")\n",
        "        if result == \"+++++\":\n",
        "            break\n",
        "        r += 1\n",
        "        guesses.append(guess)\n",
        "        exact, exactnt, must, mustnt = process_result(guess, result, exact, exactnt, must, mustnt)\n",
        "        if not quiet:\n",
        "            print(\"required   letters: \" + \"\".join(must))\n",
        "            print(\"prohibited letters: \" + \"\".join(mustnt))\n",
        "            print(\"required   pattern: \" + \"\".join(exact))\n",
        "            print(\"prohibited pattern: \" + \", \".join(\"\".join(letters) for letters in exactnt))\n",
        "        guess, outof = next_guess(exact, exactnt, must, mustnt, guesses)\n",
        "        if not quiet:\n",
        "            print(f\"{outof} words remaining\")\n",
        "            print()\n",
        "    return r"
      ]
    },
    {
      "cell_type": "code",
      "execution_count": 45,
      "id": "3ffc9e8a",
      "metadata": {
        "id": "3ffc9e8a",
        "outputId": "3e1fd2cd-c3b4-4c80-b634-db56b5b5a68c",
        "colab": {
          "base_uri": "https://localhost:8080/",
          "height": 549,
          "referenced_widgets": [
            "55eb1166c55946c5921a2ebd43100aaa",
            "575e652127ac43f2987067f62dce4609",
            "23103c37ede54a73a1a05e6dafc68d38",
            "aaba1e2ef6874cbe8f9d25c716e492d2",
            "a47e78cdb2e446afac91235e235f74be",
            "0838790374064b36a6d6f8cefd6eaba3",
            "f37aaa53d66d48ec9e6af1ffe4432aa1",
            "58877a77fad24998a90e4a920aff668f",
            "5100de41e61240e0938e86c40f14aa3b",
            "4fedf449349645ac8314821229861308",
            "ffc7a4694b2045d38add233731257687",
            "1e763536a5454f308b06f054908b8565",
            "d0d2b31a68544095aebb6c1bf419a493",
            "d2e90efc3b4f4620a32859e45f0218e2",
            "93b200808141482aa9e1d570617cc484",
            "446ac19acd2345f6a86d793aff812dd0",
            "02932242a1ea4b75ba9237286d40c8b4",
            "f1b178b4a70148d6b302c46d54bb7c1d",
            "5d2261234b154f63a438c5fc73132653",
            "9ee54655219e49838a0317250e52c5cb",
            "15f49630bfc84d7aa0346c6ea43d1366",
            "87231c83ff3a4f109ab920ebfcadf2ba"
          ]
        }
      },
      "outputs": [
        {
          "output_type": "stream",
          "name": "stdout",
          "text": [
            "round 1:\n",
            "irate\n",
            "-oo+-\n",
            "required   letters: rat\n",
            "prohibited letters: ei\n",
            "required   pattern: ...t.\n",
            "prohibited pattern: , r, a, , \n"
          ]
        },
        {
          "output_type": "display_data",
          "data": {
            "application/vnd.jupyter.widget-view+json": {
              "model_id": "55eb1166c55946c5921a2ebd43100aaa",
              "version_minor": 0,
              "version_major": 2
            },
            "text/plain": [
              "  0%|          | 0/18 [00:00<?, ?it/s]"
            ]
          },
          "metadata": {}
        },
        {
          "output_type": "stream",
          "name": "stdout",
          "text": [
            "{'yarth'}\n",
            "[10, 40]\n",
            "18 words remaining\n",
            "\n",
            "round 2:\n",
            "yarth\n",
            "o+++-\n",
            "required   letters: ryat\n",
            "prohibited letters: eih\n",
            "required   pattern: .art.\n",
            "prohibited pattern: y, r, a, , \n"
          ]
        },
        {
          "output_type": "display_data",
          "data": {
            "application/vnd.jupyter.widget-view+json": {
              "model_id": "1e763536a5454f308b06f054908b8565",
              "version_minor": 0,
              "version_major": 2
            },
            "text/plain": [
              "  0%|          | 0/3 [00:00<?, ?it/s]"
            ]
          },
          "metadata": {}
        },
        {
          "output_type": "stream",
          "name": "stdout",
          "text": [
            "{'party', 'carty', 'warty'}\n",
            "[0, 0]\n",
            "3 words remaining\n",
            "\n",
            "round 3:\n",
            "party\n",
            "+++++\n"
          ]
        },
        {
          "output_type": "execute_result",
          "data": {
            "text/plain": [
              "3"
            ]
          },
          "metadata": {},
          "execution_count": 45
        }
      ],
      "source": [
        "play(correct)"
      ]
    },
    {
      "cell_type": "code",
      "execution_count": null,
      "id": "30744762",
      "metadata": {
        "id": "30744762",
        "outputId": "a934f62f-3007-4631-af63-a1cab1b8cb28"
      },
      "outputs": [
        {
          "name": "stdout",
          "output_type": "stream",
          "text": [
            "required   letters: aet\n",
            "prohibited letters: ir\n",
            "required   pattern: .....\n",
            "prohibited pattern: , , a, t, e\n",
            "laten\n",
            "97 words remaining\n"
          ]
        }
      ],
      "source": [
        "guess = \"irate\"\n",
        "exact = [\".\"] * 5\n",
        "exactnt = [set(), set(), set(), set(), set()] # can't use [set()] * 5\n",
        "must = set()\n",
        "mustnt = set()\n",
        "guesses = [ \"ental\" ]\n",
        "r = 1\n",
        "result = \"--ooo\"\n",
        "guesses.append(guess)\n",
        "exact, exactnt, must, mustnt = process_result(guess, result, exact, exactnt, must, mustnt)\n",
        "print(\"required   letters: \" + \"\".join(must))\n",
        "print(\"prohibited letters: \" + \"\".join(mustnt))\n",
        "print(\"required   pattern: \" + \"\".join(exact))\n",
        "print(\"prohibited pattern: \" + \", \".join(\"\".join(letters) for letters in exactnt))\n",
        "guess, outof = next_guess(exact, exactnt, must, mustnt, guesses)\n",
        "print(guess)\n",
        "print(f\"{outof} words remaining\")\n"
      ]
    },
    {
      "cell_type": "code",
      "execution_count": null,
      "id": "918c71b5",
      "metadata": {
        "id": "918c71b5",
        "outputId": "ad58be71-d492-4c8c-9af9-9884ef3fd723"
      },
      "outputs": [
        {
          "name": "stdout",
          "output_type": "stream",
          "text": [
            "required   letters: alet\n",
            "prohibited letters: nir\n",
            "required   pattern: .....\n",
            "prohibited pattern: l, a, at, et, e\n",
            "pleat\n",
            "10 words remaining\n"
          ]
        }
      ],
      "source": [
        "result = \"oooo-\"\n",
        "guesses.append(guess)\n",
        "exact, exactnt, must, mustnt = process_result(guess, result, exact, exactnt, must, mustnt)\n",
        "print(\"required   letters: \" + \"\".join(must))\n",
        "print(\"prohibited letters: \" + \"\".join(mustnt))\n",
        "print(\"required   pattern: \" + \"\".join(exact))\n",
        "print(\"prohibited pattern: \" + \", \".join(\"\".join(letters) for letters in exactnt))\n",
        "guess, outof = next_guess(exact, exactnt, must, mustnt, guesses)\n",
        "print(guess)\n",
        "print(f\"{outof} words remaining\")\n"
      ]
    },
    {
      "cell_type": "code",
      "execution_count": null,
      "id": "4479301d",
      "metadata": {
        "id": "4479301d",
        "outputId": "c7dacbd2-bac1-4fa3-8920-6e6e13cc42f6"
      },
      "outputs": [
        {
          "name": "stdout",
          "output_type": "stream",
          "text": [
            "required   letters: hars\n",
            "prohibited letters: tepiouyk\n",
            "required   pattern: shar.\n",
            "prohibited pattern: , a, r, , r\n",
            "shard\n",
            "2 words remaining\n"
          ]
        }
      ],
      "source": [
        "result = \"++++-\"\n",
        "guesses.append(guess)\n",
        "exact, exactnt, must, mustnt = process_result(guess, result, exact, exactnt, must, mustnt)\n",
        "print(\"required   letters: \" + \"\".join(must))\n",
        "print(\"prohibited letters: \" + \"\".join(mustnt))\n",
        "print(\"required   pattern: \" + \"\".join(exact))\n",
        "print(\"prohibited pattern: \" + \", \".join(\"\".join(letters) for letters in exactnt))\n",
        "guess, outof = next_guess(exact, exactnt, must, mustnt, guesses)\n",
        "print(guess)\n",
        "print(f\"{outof} words remaining\")"
      ]
    },
    {
      "cell_type": "code",
      "execution_count": 42,
      "id": "348a31f6",
      "metadata": {
        "id": "348a31f6",
        "outputId": "5228c114-65d6-4cd9-f0cd-8f889d61029c",
        "colab": {
          "base_uri": "https://localhost:8080/",
          "height": 67,
          "referenced_widgets": [
            "cda32b19a89e4e71abfc33ab07520c5c",
            "7e40c7c0443446af855716325182beae",
            "e5212c18fbf949978aa6928bec938c14",
            "3d0be3f13fb846a4bf3d9e97730a6ff3",
            "a892e1bae2da4804a00fc208b46fbf72",
            "bc0bd4ed1fb24657aeb9dc0d08cbc385",
            "e9c1230948934408816163c4e52fc37a",
            "48f32603e77841ecb687bfb3624155e7",
            "e533b87c9bae40d5ac98e6814b3eff0d",
            "8e728712bcfb4b3ea6b80c50a3cf7c28",
            "88c22c540571415d91a6d0814f6d0c31"
          ]
        }
      },
      "outputs": [
        {
          "output_type": "display_data",
          "data": {
            "application/vnd.jupyter.widget-view+json": {
              "model_id": "cda32b19a89e4e71abfc33ab07520c5c",
              "version_minor": 0,
              "version_major": 2
            },
            "text/plain": [
              "  0%|          | 0/1000 [00:00<?, ?it/s]"
            ]
          },
          "metadata": {}
        },
        {
          "output_type": "stream",
          "name": "stdout",
          "text": [
            "[0, 0, 17, 205, 405, 242, 86, 23, 16, 5, 1, 0, 0, 0, 0, 0, 0, 0, 0, 0]\n"
          ]
        }
      ],
      "source": [
        "quiet = True\n",
        "hist = [0] * 20\n",
        "for i in trange(1000):\n",
        "    rounds = play(words[random.randrange(len(words))])\n",
        "    hist[rounds] += 1\n",
        "print(hist)"
      ]
    },
    {
      "cell_type": "code",
      "source": [
        "quiet = False\n",
        "starting_word()"
      ],
      "metadata": {
        "colab": {
          "base_uri": "https://localhost:8080/",
          "height": 121,
          "referenced_widgets": [
            "d46407f60f9d490c975483c838e5a579",
            "25b924b7ffbc4ecaa4c046ba8d996003",
            "78fd8b67174743d7aa393443d66a0438",
            "3463ac170ed648fa9a2b1f3af27783da",
            "16a3121e10c9477a9a3320e998e28376",
            "52b8cc584e1f4a1fa3254a43577c1bbd",
            "96ffb418fe3e4e3ba40b3cbecb04797b",
            "53ce149eb1644e7cb0831fbfb5531978",
            "434054cd83fc4d71933a1ab4801f44c4",
            "5a5ced40554a48f2b9e0896abab7bd59",
            "c492034a583c4136a4fda5efd48975a5"
          ]
        },
        "id": "yweWS_q67VzM",
        "outputId": "a71f4566-e158-41f7-ef55-6f8dee5c515a"
      },
      "id": "yweWS_q67VzM",
      "execution_count": 44,
      "outputs": [
        {
          "output_type": "display_data",
          "data": {
            "application/vnd.jupyter.widget-view+json": {
              "model_id": "d46407f60f9d490c975483c838e5a579",
              "version_minor": 0,
              "version_major": 2
            },
            "text/plain": [
              "  0%|          | 0/8498 [00:00<?, ?it/s]"
            ]
          },
          "metadata": {}
        },
        {
          "output_type": "stream",
          "name": "stdout",
          "text": [
            "{'irate', 'tarie', 'arite', 'retia'}\n",
            "[7894, 15009]\n",
            "Initial guess: irate out of 8498\n"
          ]
        },
        {
          "output_type": "execute_result",
          "data": {
            "text/plain": [
              "('irate', 8498)"
            ]
          },
          "metadata": {},
          "execution_count": 44
        }
      ]
    },
    {
      "cell_type": "code",
      "source": [
        ""
      ],
      "metadata": {
        "id": "HrRBXz6rA_0V"
      },
      "id": "HrRBXz6rA_0V",
      "execution_count": null,
      "outputs": []
    }
  ],
  "metadata": {
    "kernelspec": {
      "display_name": "Python 3 (ipykernel)",
      "language": "python",
      "name": "python3"
    },
    "language_info": {
      "codemirror_mode": {
        "name": "ipython",
        "version": 3
      },
      "file_extension": ".py",
      "mimetype": "text/x-python",
      "name": "python",
      "nbconvert_exporter": "python",
      "pygments_lexer": "ipython3",
      "version": "3.8.5"
    },
    "colab": {
      "name": "wordle_solver.ipynb",
      "provenance": []
    },
    "widgets": {
      "application/vnd.jupyter.widget-state+json": {
        "55eb1166c55946c5921a2ebd43100aaa": {
          "model_module": "@jupyter-widgets/controls",
          "model_name": "HBoxModel",
          "model_module_version": "1.5.0",
          "state": {
            "_view_name": "HBoxView",
            "_dom_classes": [],
            "_model_name": "HBoxModel",
            "_view_module": "@jupyter-widgets/controls",
            "_model_module_version": "1.5.0",
            "_view_count": null,
            "_view_module_version": "1.5.0",
            "box_style": "",
            "layout": "IPY_MODEL_575e652127ac43f2987067f62dce4609",
            "_model_module": "@jupyter-widgets/controls",
            "children": [
              "IPY_MODEL_23103c37ede54a73a1a05e6dafc68d38",
              "IPY_MODEL_aaba1e2ef6874cbe8f9d25c716e492d2",
              "IPY_MODEL_a47e78cdb2e446afac91235e235f74be"
            ]
          }
        },
        "575e652127ac43f2987067f62dce4609": {
          "model_module": "@jupyter-widgets/base",
          "model_name": "LayoutModel",
          "model_module_version": "1.2.0",
          "state": {
            "_view_name": "LayoutView",
            "grid_template_rows": null,
            "right": null,
            "justify_content": null,
            "_view_module": "@jupyter-widgets/base",
            "overflow": null,
            "_model_module_version": "1.2.0",
            "_view_count": null,
            "flex_flow": null,
            "width": null,
            "min_width": null,
            "border": null,
            "align_items": null,
            "bottom": null,
            "_model_module": "@jupyter-widgets/base",
            "top": null,
            "grid_column": null,
            "overflow_y": null,
            "overflow_x": null,
            "grid_auto_flow": null,
            "grid_area": null,
            "grid_template_columns": null,
            "flex": null,
            "_model_name": "LayoutModel",
            "justify_items": null,
            "grid_row": null,
            "max_height": null,
            "align_content": null,
            "visibility": null,
            "align_self": null,
            "height": null,
            "min_height": null,
            "padding": null,
            "grid_auto_rows": null,
            "grid_gap": null,
            "max_width": null,
            "order": null,
            "_view_module_version": "1.2.0",
            "grid_template_areas": null,
            "object_position": null,
            "object_fit": null,
            "grid_auto_columns": null,
            "margin": null,
            "display": null,
            "left": null
          }
        },
        "23103c37ede54a73a1a05e6dafc68d38": {
          "model_module": "@jupyter-widgets/controls",
          "model_name": "HTMLModel",
          "model_module_version": "1.5.0",
          "state": {
            "_view_name": "HTMLView",
            "style": "IPY_MODEL_0838790374064b36a6d6f8cefd6eaba3",
            "_dom_classes": [],
            "description": "",
            "_model_name": "HTMLModel",
            "placeholder": "​",
            "_view_module": "@jupyter-widgets/controls",
            "_model_module_version": "1.5.0",
            "value": "100%",
            "_view_count": null,
            "_view_module_version": "1.5.0",
            "description_tooltip": null,
            "_model_module": "@jupyter-widgets/controls",
            "layout": "IPY_MODEL_f37aaa53d66d48ec9e6af1ffe4432aa1"
          }
        },
        "aaba1e2ef6874cbe8f9d25c716e492d2": {
          "model_module": "@jupyter-widgets/controls",
          "model_name": "FloatProgressModel",
          "model_module_version": "1.5.0",
          "state": {
            "_view_name": "ProgressView",
            "style": "IPY_MODEL_58877a77fad24998a90e4a920aff668f",
            "_dom_classes": [],
            "description": "",
            "_model_name": "FloatProgressModel",
            "bar_style": "success",
            "max": 18,
            "_view_module": "@jupyter-widgets/controls",
            "_model_module_version": "1.5.0",
            "value": 18,
            "_view_count": null,
            "_view_module_version": "1.5.0",
            "orientation": "horizontal",
            "min": 0,
            "description_tooltip": null,
            "_model_module": "@jupyter-widgets/controls",
            "layout": "IPY_MODEL_5100de41e61240e0938e86c40f14aa3b"
          }
        },
        "a47e78cdb2e446afac91235e235f74be": {
          "model_module": "@jupyter-widgets/controls",
          "model_name": "HTMLModel",
          "model_module_version": "1.5.0",
          "state": {
            "_view_name": "HTMLView",
            "style": "IPY_MODEL_4fedf449349645ac8314821229861308",
            "_dom_classes": [],
            "description": "",
            "_model_name": "HTMLModel",
            "placeholder": "​",
            "_view_module": "@jupyter-widgets/controls",
            "_model_module_version": "1.5.0",
            "value": " 18/18 [00:00&lt;00:00, 420.47it/s]",
            "_view_count": null,
            "_view_module_version": "1.5.0",
            "description_tooltip": null,
            "_model_module": "@jupyter-widgets/controls",
            "layout": "IPY_MODEL_ffc7a4694b2045d38add233731257687"
          }
        },
        "0838790374064b36a6d6f8cefd6eaba3": {
          "model_module": "@jupyter-widgets/controls",
          "model_name": "DescriptionStyleModel",
          "model_module_version": "1.5.0",
          "state": {
            "_view_name": "StyleView",
            "_model_name": "DescriptionStyleModel",
            "description_width": "",
            "_view_module": "@jupyter-widgets/base",
            "_model_module_version": "1.5.0",
            "_view_count": null,
            "_view_module_version": "1.2.0",
            "_model_module": "@jupyter-widgets/controls"
          }
        },
        "f37aaa53d66d48ec9e6af1ffe4432aa1": {
          "model_module": "@jupyter-widgets/base",
          "model_name": "LayoutModel",
          "model_module_version": "1.2.0",
          "state": {
            "_view_name": "LayoutView",
            "grid_template_rows": null,
            "right": null,
            "justify_content": null,
            "_view_module": "@jupyter-widgets/base",
            "overflow": null,
            "_model_module_version": "1.2.0",
            "_view_count": null,
            "flex_flow": null,
            "width": null,
            "min_width": null,
            "border": null,
            "align_items": null,
            "bottom": null,
            "_model_module": "@jupyter-widgets/base",
            "top": null,
            "grid_column": null,
            "overflow_y": null,
            "overflow_x": null,
            "grid_auto_flow": null,
            "grid_area": null,
            "grid_template_columns": null,
            "flex": null,
            "_model_name": "LayoutModel",
            "justify_items": null,
            "grid_row": null,
            "max_height": null,
            "align_content": null,
            "visibility": null,
            "align_self": null,
            "height": null,
            "min_height": null,
            "padding": null,
            "grid_auto_rows": null,
            "grid_gap": null,
            "max_width": null,
            "order": null,
            "_view_module_version": "1.2.0",
            "grid_template_areas": null,
            "object_position": null,
            "object_fit": null,
            "grid_auto_columns": null,
            "margin": null,
            "display": null,
            "left": null
          }
        },
        "58877a77fad24998a90e4a920aff668f": {
          "model_module": "@jupyter-widgets/controls",
          "model_name": "ProgressStyleModel",
          "model_module_version": "1.5.0",
          "state": {
            "_view_name": "StyleView",
            "_model_name": "ProgressStyleModel",
            "description_width": "",
            "_view_module": "@jupyter-widgets/base",
            "_model_module_version": "1.5.0",
            "_view_count": null,
            "_view_module_version": "1.2.0",
            "bar_color": null,
            "_model_module": "@jupyter-widgets/controls"
          }
        },
        "5100de41e61240e0938e86c40f14aa3b": {
          "model_module": "@jupyter-widgets/base",
          "model_name": "LayoutModel",
          "model_module_version": "1.2.0",
          "state": {
            "_view_name": "LayoutView",
            "grid_template_rows": null,
            "right": null,
            "justify_content": null,
            "_view_module": "@jupyter-widgets/base",
            "overflow": null,
            "_model_module_version": "1.2.0",
            "_view_count": null,
            "flex_flow": null,
            "width": null,
            "min_width": null,
            "border": null,
            "align_items": null,
            "bottom": null,
            "_model_module": "@jupyter-widgets/base",
            "top": null,
            "grid_column": null,
            "overflow_y": null,
            "overflow_x": null,
            "grid_auto_flow": null,
            "grid_area": null,
            "grid_template_columns": null,
            "flex": null,
            "_model_name": "LayoutModel",
            "justify_items": null,
            "grid_row": null,
            "max_height": null,
            "align_content": null,
            "visibility": null,
            "align_self": null,
            "height": null,
            "min_height": null,
            "padding": null,
            "grid_auto_rows": null,
            "grid_gap": null,
            "max_width": null,
            "order": null,
            "_view_module_version": "1.2.0",
            "grid_template_areas": null,
            "object_position": null,
            "object_fit": null,
            "grid_auto_columns": null,
            "margin": null,
            "display": null,
            "left": null
          }
        },
        "4fedf449349645ac8314821229861308": {
          "model_module": "@jupyter-widgets/controls",
          "model_name": "DescriptionStyleModel",
          "model_module_version": "1.5.0",
          "state": {
            "_view_name": "StyleView",
            "_model_name": "DescriptionStyleModel",
            "description_width": "",
            "_view_module": "@jupyter-widgets/base",
            "_model_module_version": "1.5.0",
            "_view_count": null,
            "_view_module_version": "1.2.0",
            "_model_module": "@jupyter-widgets/controls"
          }
        },
        "ffc7a4694b2045d38add233731257687": {
          "model_module": "@jupyter-widgets/base",
          "model_name": "LayoutModel",
          "model_module_version": "1.2.0",
          "state": {
            "_view_name": "LayoutView",
            "grid_template_rows": null,
            "right": null,
            "justify_content": null,
            "_view_module": "@jupyter-widgets/base",
            "overflow": null,
            "_model_module_version": "1.2.0",
            "_view_count": null,
            "flex_flow": null,
            "width": null,
            "min_width": null,
            "border": null,
            "align_items": null,
            "bottom": null,
            "_model_module": "@jupyter-widgets/base",
            "top": null,
            "grid_column": null,
            "overflow_y": null,
            "overflow_x": null,
            "grid_auto_flow": null,
            "grid_area": null,
            "grid_template_columns": null,
            "flex": null,
            "_model_name": "LayoutModel",
            "justify_items": null,
            "grid_row": null,
            "max_height": null,
            "align_content": null,
            "visibility": null,
            "align_self": null,
            "height": null,
            "min_height": null,
            "padding": null,
            "grid_auto_rows": null,
            "grid_gap": null,
            "max_width": null,
            "order": null,
            "_view_module_version": "1.2.0",
            "grid_template_areas": null,
            "object_position": null,
            "object_fit": null,
            "grid_auto_columns": null,
            "margin": null,
            "display": null,
            "left": null
          }
        },
        "1e763536a5454f308b06f054908b8565": {
          "model_module": "@jupyter-widgets/controls",
          "model_name": "HBoxModel",
          "model_module_version": "1.5.0",
          "state": {
            "_view_name": "HBoxView",
            "_dom_classes": [],
            "_model_name": "HBoxModel",
            "_view_module": "@jupyter-widgets/controls",
            "_model_module_version": "1.5.0",
            "_view_count": null,
            "_view_module_version": "1.5.0",
            "box_style": "",
            "layout": "IPY_MODEL_d0d2b31a68544095aebb6c1bf419a493",
            "_model_module": "@jupyter-widgets/controls",
            "children": [
              "IPY_MODEL_d2e90efc3b4f4620a32859e45f0218e2",
              "IPY_MODEL_93b200808141482aa9e1d570617cc484",
              "IPY_MODEL_446ac19acd2345f6a86d793aff812dd0"
            ]
          }
        },
        "d0d2b31a68544095aebb6c1bf419a493": {
          "model_module": "@jupyter-widgets/base",
          "model_name": "LayoutModel",
          "model_module_version": "1.2.0",
          "state": {
            "_view_name": "LayoutView",
            "grid_template_rows": null,
            "right": null,
            "justify_content": null,
            "_view_module": "@jupyter-widgets/base",
            "overflow": null,
            "_model_module_version": "1.2.0",
            "_view_count": null,
            "flex_flow": null,
            "width": null,
            "min_width": null,
            "border": null,
            "align_items": null,
            "bottom": null,
            "_model_module": "@jupyter-widgets/base",
            "top": null,
            "grid_column": null,
            "overflow_y": null,
            "overflow_x": null,
            "grid_auto_flow": null,
            "grid_area": null,
            "grid_template_columns": null,
            "flex": null,
            "_model_name": "LayoutModel",
            "justify_items": null,
            "grid_row": null,
            "max_height": null,
            "align_content": null,
            "visibility": null,
            "align_self": null,
            "height": null,
            "min_height": null,
            "padding": null,
            "grid_auto_rows": null,
            "grid_gap": null,
            "max_width": null,
            "order": null,
            "_view_module_version": "1.2.0",
            "grid_template_areas": null,
            "object_position": null,
            "object_fit": null,
            "grid_auto_columns": null,
            "margin": null,
            "display": null,
            "left": null
          }
        },
        "d2e90efc3b4f4620a32859e45f0218e2": {
          "model_module": "@jupyter-widgets/controls",
          "model_name": "HTMLModel",
          "model_module_version": "1.5.0",
          "state": {
            "_view_name": "HTMLView",
            "style": "IPY_MODEL_02932242a1ea4b75ba9237286d40c8b4",
            "_dom_classes": [],
            "description": "",
            "_model_name": "HTMLModel",
            "placeholder": "​",
            "_view_module": "@jupyter-widgets/controls",
            "_model_module_version": "1.5.0",
            "value": "100%",
            "_view_count": null,
            "_view_module_version": "1.5.0",
            "description_tooltip": null,
            "_model_module": "@jupyter-widgets/controls",
            "layout": "IPY_MODEL_f1b178b4a70148d6b302c46d54bb7c1d"
          }
        },
        "93b200808141482aa9e1d570617cc484": {
          "model_module": "@jupyter-widgets/controls",
          "model_name": "FloatProgressModel",
          "model_module_version": "1.5.0",
          "state": {
            "_view_name": "ProgressView",
            "style": "IPY_MODEL_5d2261234b154f63a438c5fc73132653",
            "_dom_classes": [],
            "description": "",
            "_model_name": "FloatProgressModel",
            "bar_style": "success",
            "max": 3,
            "_view_module": "@jupyter-widgets/controls",
            "_model_module_version": "1.5.0",
            "value": 3,
            "_view_count": null,
            "_view_module_version": "1.5.0",
            "orientation": "horizontal",
            "min": 0,
            "description_tooltip": null,
            "_model_module": "@jupyter-widgets/controls",
            "layout": "IPY_MODEL_9ee54655219e49838a0317250e52c5cb"
          }
        },
        "446ac19acd2345f6a86d793aff812dd0": {
          "model_module": "@jupyter-widgets/controls",
          "model_name": "HTMLModel",
          "model_module_version": "1.5.0",
          "state": {
            "_view_name": "HTMLView",
            "style": "IPY_MODEL_15f49630bfc84d7aa0346c6ea43d1366",
            "_dom_classes": [],
            "description": "",
            "_model_name": "HTMLModel",
            "placeholder": "​",
            "_view_module": "@jupyter-widgets/controls",
            "_model_module_version": "1.5.0",
            "value": " 3/3 [00:00&lt;00:00, 61.20it/s]",
            "_view_count": null,
            "_view_module_version": "1.5.0",
            "description_tooltip": null,
            "_model_module": "@jupyter-widgets/controls",
            "layout": "IPY_MODEL_87231c83ff3a4f109ab920ebfcadf2ba"
          }
        },
        "02932242a1ea4b75ba9237286d40c8b4": {
          "model_module": "@jupyter-widgets/controls",
          "model_name": "DescriptionStyleModel",
          "model_module_version": "1.5.0",
          "state": {
            "_view_name": "StyleView",
            "_model_name": "DescriptionStyleModel",
            "description_width": "",
            "_view_module": "@jupyter-widgets/base",
            "_model_module_version": "1.5.0",
            "_view_count": null,
            "_view_module_version": "1.2.0",
            "_model_module": "@jupyter-widgets/controls"
          }
        },
        "f1b178b4a70148d6b302c46d54bb7c1d": {
          "model_module": "@jupyter-widgets/base",
          "model_name": "LayoutModel",
          "model_module_version": "1.2.0",
          "state": {
            "_view_name": "LayoutView",
            "grid_template_rows": null,
            "right": null,
            "justify_content": null,
            "_view_module": "@jupyter-widgets/base",
            "overflow": null,
            "_model_module_version": "1.2.0",
            "_view_count": null,
            "flex_flow": null,
            "width": null,
            "min_width": null,
            "border": null,
            "align_items": null,
            "bottom": null,
            "_model_module": "@jupyter-widgets/base",
            "top": null,
            "grid_column": null,
            "overflow_y": null,
            "overflow_x": null,
            "grid_auto_flow": null,
            "grid_area": null,
            "grid_template_columns": null,
            "flex": null,
            "_model_name": "LayoutModel",
            "justify_items": null,
            "grid_row": null,
            "max_height": null,
            "align_content": null,
            "visibility": null,
            "align_self": null,
            "height": null,
            "min_height": null,
            "padding": null,
            "grid_auto_rows": null,
            "grid_gap": null,
            "max_width": null,
            "order": null,
            "_view_module_version": "1.2.0",
            "grid_template_areas": null,
            "object_position": null,
            "object_fit": null,
            "grid_auto_columns": null,
            "margin": null,
            "display": null,
            "left": null
          }
        },
        "5d2261234b154f63a438c5fc73132653": {
          "model_module": "@jupyter-widgets/controls",
          "model_name": "ProgressStyleModel",
          "model_module_version": "1.5.0",
          "state": {
            "_view_name": "StyleView",
            "_model_name": "ProgressStyleModel",
            "description_width": "",
            "_view_module": "@jupyter-widgets/base",
            "_model_module_version": "1.5.0",
            "_view_count": null,
            "_view_module_version": "1.2.0",
            "bar_color": null,
            "_model_module": "@jupyter-widgets/controls"
          }
        },
        "9ee54655219e49838a0317250e52c5cb": {
          "model_module": "@jupyter-widgets/base",
          "model_name": "LayoutModel",
          "model_module_version": "1.2.0",
          "state": {
            "_view_name": "LayoutView",
            "grid_template_rows": null,
            "right": null,
            "justify_content": null,
            "_view_module": "@jupyter-widgets/base",
            "overflow": null,
            "_model_module_version": "1.2.0",
            "_view_count": null,
            "flex_flow": null,
            "width": null,
            "min_width": null,
            "border": null,
            "align_items": null,
            "bottom": null,
            "_model_module": "@jupyter-widgets/base",
            "top": null,
            "grid_column": null,
            "overflow_y": null,
            "overflow_x": null,
            "grid_auto_flow": null,
            "grid_area": null,
            "grid_template_columns": null,
            "flex": null,
            "_model_name": "LayoutModel",
            "justify_items": null,
            "grid_row": null,
            "max_height": null,
            "align_content": null,
            "visibility": null,
            "align_self": null,
            "height": null,
            "min_height": null,
            "padding": null,
            "grid_auto_rows": null,
            "grid_gap": null,
            "max_width": null,
            "order": null,
            "_view_module_version": "1.2.0",
            "grid_template_areas": null,
            "object_position": null,
            "object_fit": null,
            "grid_auto_columns": null,
            "margin": null,
            "display": null,
            "left": null
          }
        },
        "15f49630bfc84d7aa0346c6ea43d1366": {
          "model_module": "@jupyter-widgets/controls",
          "model_name": "DescriptionStyleModel",
          "model_module_version": "1.5.0",
          "state": {
            "_view_name": "StyleView",
            "_model_name": "DescriptionStyleModel",
            "description_width": "",
            "_view_module": "@jupyter-widgets/base",
            "_model_module_version": "1.5.0",
            "_view_count": null,
            "_view_module_version": "1.2.0",
            "_model_module": "@jupyter-widgets/controls"
          }
        },
        "87231c83ff3a4f109ab920ebfcadf2ba": {
          "model_module": "@jupyter-widgets/base",
          "model_name": "LayoutModel",
          "model_module_version": "1.2.0",
          "state": {
            "_view_name": "LayoutView",
            "grid_template_rows": null,
            "right": null,
            "justify_content": null,
            "_view_module": "@jupyter-widgets/base",
            "overflow": null,
            "_model_module_version": "1.2.0",
            "_view_count": null,
            "flex_flow": null,
            "width": null,
            "min_width": null,
            "border": null,
            "align_items": null,
            "bottom": null,
            "_model_module": "@jupyter-widgets/base",
            "top": null,
            "grid_column": null,
            "overflow_y": null,
            "overflow_x": null,
            "grid_auto_flow": null,
            "grid_area": null,
            "grid_template_columns": null,
            "flex": null,
            "_model_name": "LayoutModel",
            "justify_items": null,
            "grid_row": null,
            "max_height": null,
            "align_content": null,
            "visibility": null,
            "align_self": null,
            "height": null,
            "min_height": null,
            "padding": null,
            "grid_auto_rows": null,
            "grid_gap": null,
            "max_width": null,
            "order": null,
            "_view_module_version": "1.2.0",
            "grid_template_areas": null,
            "object_position": null,
            "object_fit": null,
            "grid_auto_columns": null,
            "margin": null,
            "display": null,
            "left": null
          }
        },
        "cda32b19a89e4e71abfc33ab07520c5c": {
          "model_module": "@jupyter-widgets/controls",
          "model_name": "HBoxModel",
          "model_module_version": "1.5.0",
          "state": {
            "_view_name": "HBoxView",
            "_dom_classes": [],
            "_model_name": "HBoxModel",
            "_view_module": "@jupyter-widgets/controls",
            "_model_module_version": "1.5.0",
            "_view_count": null,
            "_view_module_version": "1.5.0",
            "box_style": "",
            "layout": "IPY_MODEL_7e40c7c0443446af855716325182beae",
            "_model_module": "@jupyter-widgets/controls",
            "children": [
              "IPY_MODEL_e5212c18fbf949978aa6928bec938c14",
              "IPY_MODEL_3d0be3f13fb846a4bf3d9e97730a6ff3",
              "IPY_MODEL_a892e1bae2da4804a00fc208b46fbf72"
            ]
          }
        },
        "7e40c7c0443446af855716325182beae": {
          "model_module": "@jupyter-widgets/base",
          "model_name": "LayoutModel",
          "model_module_version": "1.2.0",
          "state": {
            "_view_name": "LayoutView",
            "grid_template_rows": null,
            "right": null,
            "justify_content": null,
            "_view_module": "@jupyter-widgets/base",
            "overflow": null,
            "_model_module_version": "1.2.0",
            "_view_count": null,
            "flex_flow": null,
            "width": null,
            "min_width": null,
            "border": null,
            "align_items": null,
            "bottom": null,
            "_model_module": "@jupyter-widgets/base",
            "top": null,
            "grid_column": null,
            "overflow_y": null,
            "overflow_x": null,
            "grid_auto_flow": null,
            "grid_area": null,
            "grid_template_columns": null,
            "flex": null,
            "_model_name": "LayoutModel",
            "justify_items": null,
            "grid_row": null,
            "max_height": null,
            "align_content": null,
            "visibility": null,
            "align_self": null,
            "height": null,
            "min_height": null,
            "padding": null,
            "grid_auto_rows": null,
            "grid_gap": null,
            "max_width": null,
            "order": null,
            "_view_module_version": "1.2.0",
            "grid_template_areas": null,
            "object_position": null,
            "object_fit": null,
            "grid_auto_columns": null,
            "margin": null,
            "display": null,
            "left": null
          }
        },
        "e5212c18fbf949978aa6928bec938c14": {
          "model_module": "@jupyter-widgets/controls",
          "model_name": "HTMLModel",
          "model_module_version": "1.5.0",
          "state": {
            "_view_name": "HTMLView",
            "style": "IPY_MODEL_bc0bd4ed1fb24657aeb9dc0d08cbc385",
            "_dom_classes": [],
            "description": "",
            "_model_name": "HTMLModel",
            "placeholder": "​",
            "_view_module": "@jupyter-widgets/controls",
            "_model_module_version": "1.5.0",
            "value": "100%",
            "_view_count": null,
            "_view_module_version": "1.5.0",
            "description_tooltip": null,
            "_model_module": "@jupyter-widgets/controls",
            "layout": "IPY_MODEL_e9c1230948934408816163c4e52fc37a"
          }
        },
        "3d0be3f13fb846a4bf3d9e97730a6ff3": {
          "model_module": "@jupyter-widgets/controls",
          "model_name": "FloatProgressModel",
          "model_module_version": "1.5.0",
          "state": {
            "_view_name": "ProgressView",
            "style": "IPY_MODEL_48f32603e77841ecb687bfb3624155e7",
            "_dom_classes": [],
            "description": "",
            "_model_name": "FloatProgressModel",
            "bar_style": "success",
            "max": 1000,
            "_view_module": "@jupyter-widgets/controls",
            "_model_module_version": "1.5.0",
            "value": 1000,
            "_view_count": null,
            "_view_module_version": "1.5.0",
            "orientation": "horizontal",
            "min": 0,
            "description_tooltip": null,
            "_model_module": "@jupyter-widgets/controls",
            "layout": "IPY_MODEL_e533b87c9bae40d5ac98e6814b3eff0d"
          }
        },
        "a892e1bae2da4804a00fc208b46fbf72": {
          "model_module": "@jupyter-widgets/controls",
          "model_name": "HTMLModel",
          "model_module_version": "1.5.0",
          "state": {
            "_view_name": "HTMLView",
            "style": "IPY_MODEL_8e728712bcfb4b3ea6b80c50a3cf7c28",
            "_dom_classes": [],
            "description": "",
            "_model_name": "HTMLModel",
            "placeholder": "​",
            "_view_module": "@jupyter-widgets/controls",
            "_model_module_version": "1.5.0",
            "value": " 1000/1000 [02:28&lt;00:00,  9.75it/s]",
            "_view_count": null,
            "_view_module_version": "1.5.0",
            "description_tooltip": null,
            "_model_module": "@jupyter-widgets/controls",
            "layout": "IPY_MODEL_88c22c540571415d91a6d0814f6d0c31"
          }
        },
        "bc0bd4ed1fb24657aeb9dc0d08cbc385": {
          "model_module": "@jupyter-widgets/controls",
          "model_name": "DescriptionStyleModel",
          "model_module_version": "1.5.0",
          "state": {
            "_view_name": "StyleView",
            "_model_name": "DescriptionStyleModel",
            "description_width": "",
            "_view_module": "@jupyter-widgets/base",
            "_model_module_version": "1.5.0",
            "_view_count": null,
            "_view_module_version": "1.2.0",
            "_model_module": "@jupyter-widgets/controls"
          }
        },
        "e9c1230948934408816163c4e52fc37a": {
          "model_module": "@jupyter-widgets/base",
          "model_name": "LayoutModel",
          "model_module_version": "1.2.0",
          "state": {
            "_view_name": "LayoutView",
            "grid_template_rows": null,
            "right": null,
            "justify_content": null,
            "_view_module": "@jupyter-widgets/base",
            "overflow": null,
            "_model_module_version": "1.2.0",
            "_view_count": null,
            "flex_flow": null,
            "width": null,
            "min_width": null,
            "border": null,
            "align_items": null,
            "bottom": null,
            "_model_module": "@jupyter-widgets/base",
            "top": null,
            "grid_column": null,
            "overflow_y": null,
            "overflow_x": null,
            "grid_auto_flow": null,
            "grid_area": null,
            "grid_template_columns": null,
            "flex": null,
            "_model_name": "LayoutModel",
            "justify_items": null,
            "grid_row": null,
            "max_height": null,
            "align_content": null,
            "visibility": null,
            "align_self": null,
            "height": null,
            "min_height": null,
            "padding": null,
            "grid_auto_rows": null,
            "grid_gap": null,
            "max_width": null,
            "order": null,
            "_view_module_version": "1.2.0",
            "grid_template_areas": null,
            "object_position": null,
            "object_fit": null,
            "grid_auto_columns": null,
            "margin": null,
            "display": null,
            "left": null
          }
        },
        "48f32603e77841ecb687bfb3624155e7": {
          "model_module": "@jupyter-widgets/controls",
          "model_name": "ProgressStyleModel",
          "model_module_version": "1.5.0",
          "state": {
            "_view_name": "StyleView",
            "_model_name": "ProgressStyleModel",
            "description_width": "",
            "_view_module": "@jupyter-widgets/base",
            "_model_module_version": "1.5.0",
            "_view_count": null,
            "_view_module_version": "1.2.0",
            "bar_color": null,
            "_model_module": "@jupyter-widgets/controls"
          }
        },
        "e533b87c9bae40d5ac98e6814b3eff0d": {
          "model_module": "@jupyter-widgets/base",
          "model_name": "LayoutModel",
          "model_module_version": "1.2.0",
          "state": {
            "_view_name": "LayoutView",
            "grid_template_rows": null,
            "right": null,
            "justify_content": null,
            "_view_module": "@jupyter-widgets/base",
            "overflow": null,
            "_model_module_version": "1.2.0",
            "_view_count": null,
            "flex_flow": null,
            "width": null,
            "min_width": null,
            "border": null,
            "align_items": null,
            "bottom": null,
            "_model_module": "@jupyter-widgets/base",
            "top": null,
            "grid_column": null,
            "overflow_y": null,
            "overflow_x": null,
            "grid_auto_flow": null,
            "grid_area": null,
            "grid_template_columns": null,
            "flex": null,
            "_model_name": "LayoutModel",
            "justify_items": null,
            "grid_row": null,
            "max_height": null,
            "align_content": null,
            "visibility": null,
            "align_self": null,
            "height": null,
            "min_height": null,
            "padding": null,
            "grid_auto_rows": null,
            "grid_gap": null,
            "max_width": null,
            "order": null,
            "_view_module_version": "1.2.0",
            "grid_template_areas": null,
            "object_position": null,
            "object_fit": null,
            "grid_auto_columns": null,
            "margin": null,
            "display": null,
            "left": null
          }
        },
        "8e728712bcfb4b3ea6b80c50a3cf7c28": {
          "model_module": "@jupyter-widgets/controls",
          "model_name": "DescriptionStyleModel",
          "model_module_version": "1.5.0",
          "state": {
            "_view_name": "StyleView",
            "_model_name": "DescriptionStyleModel",
            "description_width": "",
            "_view_module": "@jupyter-widgets/base",
            "_model_module_version": "1.5.0",
            "_view_count": null,
            "_view_module_version": "1.2.0",
            "_model_module": "@jupyter-widgets/controls"
          }
        },
        "88c22c540571415d91a6d0814f6d0c31": {
          "model_module": "@jupyter-widgets/base",
          "model_name": "LayoutModel",
          "model_module_version": "1.2.0",
          "state": {
            "_view_name": "LayoutView",
            "grid_template_rows": null,
            "right": null,
            "justify_content": null,
            "_view_module": "@jupyter-widgets/base",
            "overflow": null,
            "_model_module_version": "1.2.0",
            "_view_count": null,
            "flex_flow": null,
            "width": null,
            "min_width": null,
            "border": null,
            "align_items": null,
            "bottom": null,
            "_model_module": "@jupyter-widgets/base",
            "top": null,
            "grid_column": null,
            "overflow_y": null,
            "overflow_x": null,
            "grid_auto_flow": null,
            "grid_area": null,
            "grid_template_columns": null,
            "flex": null,
            "_model_name": "LayoutModel",
            "justify_items": null,
            "grid_row": null,
            "max_height": null,
            "align_content": null,
            "visibility": null,
            "align_self": null,
            "height": null,
            "min_height": null,
            "padding": null,
            "grid_auto_rows": null,
            "grid_gap": null,
            "max_width": null,
            "order": null,
            "_view_module_version": "1.2.0",
            "grid_template_areas": null,
            "object_position": null,
            "object_fit": null,
            "grid_auto_columns": null,
            "margin": null,
            "display": null,
            "left": null
          }
        },
        "d46407f60f9d490c975483c838e5a579": {
          "model_module": "@jupyter-widgets/controls",
          "model_name": "HBoxModel",
          "model_module_version": "1.5.0",
          "state": {
            "_view_name": "HBoxView",
            "_dom_classes": [],
            "_model_name": "HBoxModel",
            "_view_module": "@jupyter-widgets/controls",
            "_model_module_version": "1.5.0",
            "_view_count": null,
            "_view_module_version": "1.5.0",
            "box_style": "",
            "layout": "IPY_MODEL_25b924b7ffbc4ecaa4c046ba8d996003",
            "_model_module": "@jupyter-widgets/controls",
            "children": [
              "IPY_MODEL_78fd8b67174743d7aa393443d66a0438",
              "IPY_MODEL_3463ac170ed648fa9a2b1f3af27783da",
              "IPY_MODEL_16a3121e10c9477a9a3320e998e28376"
            ]
          }
        },
        "25b924b7ffbc4ecaa4c046ba8d996003": {
          "model_module": "@jupyter-widgets/base",
          "model_name": "LayoutModel",
          "model_module_version": "1.2.0",
          "state": {
            "_view_name": "LayoutView",
            "grid_template_rows": null,
            "right": null,
            "justify_content": null,
            "_view_module": "@jupyter-widgets/base",
            "overflow": null,
            "_model_module_version": "1.2.0",
            "_view_count": null,
            "flex_flow": null,
            "width": null,
            "min_width": null,
            "border": null,
            "align_items": null,
            "bottom": null,
            "_model_module": "@jupyter-widgets/base",
            "top": null,
            "grid_column": null,
            "overflow_y": null,
            "overflow_x": null,
            "grid_auto_flow": null,
            "grid_area": null,
            "grid_template_columns": null,
            "flex": null,
            "_model_name": "LayoutModel",
            "justify_items": null,
            "grid_row": null,
            "max_height": null,
            "align_content": null,
            "visibility": null,
            "align_self": null,
            "height": null,
            "min_height": null,
            "padding": null,
            "grid_auto_rows": null,
            "grid_gap": null,
            "max_width": null,
            "order": null,
            "_view_module_version": "1.2.0",
            "grid_template_areas": null,
            "object_position": null,
            "object_fit": null,
            "grid_auto_columns": null,
            "margin": null,
            "display": null,
            "left": null
          }
        },
        "78fd8b67174743d7aa393443d66a0438": {
          "model_module": "@jupyter-widgets/controls",
          "model_name": "HTMLModel",
          "model_module_version": "1.5.0",
          "state": {
            "_view_name": "HTMLView",
            "style": "IPY_MODEL_52b8cc584e1f4a1fa3254a43577c1bbd",
            "_dom_classes": [],
            "description": "",
            "_model_name": "HTMLModel",
            "placeholder": "​",
            "_view_module": "@jupyter-widgets/controls",
            "_model_module_version": "1.5.0",
            "value": "100%",
            "_view_count": null,
            "_view_module_version": "1.5.0",
            "description_tooltip": null,
            "_model_module": "@jupyter-widgets/controls",
            "layout": "IPY_MODEL_96ffb418fe3e4e3ba40b3cbecb04797b"
          }
        },
        "3463ac170ed648fa9a2b1f3af27783da": {
          "model_module": "@jupyter-widgets/controls",
          "model_name": "FloatProgressModel",
          "model_module_version": "1.5.0",
          "state": {
            "_view_name": "ProgressView",
            "style": "IPY_MODEL_53ce149eb1644e7cb0831fbfb5531978",
            "_dom_classes": [],
            "description": "",
            "_model_name": "FloatProgressModel",
            "bar_style": "success",
            "max": 8498,
            "_view_module": "@jupyter-widgets/controls",
            "_model_module_version": "1.5.0",
            "value": 8498,
            "_view_count": null,
            "_view_module_version": "1.5.0",
            "orientation": "horizontal",
            "min": 0,
            "description_tooltip": null,
            "_model_module": "@jupyter-widgets/controls",
            "layout": "IPY_MODEL_434054cd83fc4d71933a1ab4801f44c4"
          }
        },
        "16a3121e10c9477a9a3320e998e28376": {
          "model_module": "@jupyter-widgets/controls",
          "model_name": "HTMLModel",
          "model_module_version": "1.5.0",
          "state": {
            "_view_name": "HTMLView",
            "style": "IPY_MODEL_5a5ced40554a48f2b9e0896abab7bd59",
            "_dom_classes": [],
            "description": "",
            "_model_name": "HTMLModel",
            "placeholder": "​",
            "_view_module": "@jupyter-widgets/controls",
            "_model_module_version": "1.5.0",
            "value": " 8498/8498 [01:38&lt;00:00, 1134.20it/s]",
            "_view_count": null,
            "_view_module_version": "1.5.0",
            "description_tooltip": null,
            "_model_module": "@jupyter-widgets/controls",
            "layout": "IPY_MODEL_c492034a583c4136a4fda5efd48975a5"
          }
        },
        "52b8cc584e1f4a1fa3254a43577c1bbd": {
          "model_module": "@jupyter-widgets/controls",
          "model_name": "DescriptionStyleModel",
          "model_module_version": "1.5.0",
          "state": {
            "_view_name": "StyleView",
            "_model_name": "DescriptionStyleModel",
            "description_width": "",
            "_view_module": "@jupyter-widgets/base",
            "_model_module_version": "1.5.0",
            "_view_count": null,
            "_view_module_version": "1.2.0",
            "_model_module": "@jupyter-widgets/controls"
          }
        },
        "96ffb418fe3e4e3ba40b3cbecb04797b": {
          "model_module": "@jupyter-widgets/base",
          "model_name": "LayoutModel",
          "model_module_version": "1.2.0",
          "state": {
            "_view_name": "LayoutView",
            "grid_template_rows": null,
            "right": null,
            "justify_content": null,
            "_view_module": "@jupyter-widgets/base",
            "overflow": null,
            "_model_module_version": "1.2.0",
            "_view_count": null,
            "flex_flow": null,
            "width": null,
            "min_width": null,
            "border": null,
            "align_items": null,
            "bottom": null,
            "_model_module": "@jupyter-widgets/base",
            "top": null,
            "grid_column": null,
            "overflow_y": null,
            "overflow_x": null,
            "grid_auto_flow": null,
            "grid_area": null,
            "grid_template_columns": null,
            "flex": null,
            "_model_name": "LayoutModel",
            "justify_items": null,
            "grid_row": null,
            "max_height": null,
            "align_content": null,
            "visibility": null,
            "align_self": null,
            "height": null,
            "min_height": null,
            "padding": null,
            "grid_auto_rows": null,
            "grid_gap": null,
            "max_width": null,
            "order": null,
            "_view_module_version": "1.2.0",
            "grid_template_areas": null,
            "object_position": null,
            "object_fit": null,
            "grid_auto_columns": null,
            "margin": null,
            "display": null,
            "left": null
          }
        },
        "53ce149eb1644e7cb0831fbfb5531978": {
          "model_module": "@jupyter-widgets/controls",
          "model_name": "ProgressStyleModel",
          "model_module_version": "1.5.0",
          "state": {
            "_view_name": "StyleView",
            "_model_name": "ProgressStyleModel",
            "description_width": "",
            "_view_module": "@jupyter-widgets/base",
            "_model_module_version": "1.5.0",
            "_view_count": null,
            "_view_module_version": "1.2.0",
            "bar_color": null,
            "_model_module": "@jupyter-widgets/controls"
          }
        },
        "434054cd83fc4d71933a1ab4801f44c4": {
          "model_module": "@jupyter-widgets/base",
          "model_name": "LayoutModel",
          "model_module_version": "1.2.0",
          "state": {
            "_view_name": "LayoutView",
            "grid_template_rows": null,
            "right": null,
            "justify_content": null,
            "_view_module": "@jupyter-widgets/base",
            "overflow": null,
            "_model_module_version": "1.2.0",
            "_view_count": null,
            "flex_flow": null,
            "width": null,
            "min_width": null,
            "border": null,
            "align_items": null,
            "bottom": null,
            "_model_module": "@jupyter-widgets/base",
            "top": null,
            "grid_column": null,
            "overflow_y": null,
            "overflow_x": null,
            "grid_auto_flow": null,
            "grid_area": null,
            "grid_template_columns": null,
            "flex": null,
            "_model_name": "LayoutModel",
            "justify_items": null,
            "grid_row": null,
            "max_height": null,
            "align_content": null,
            "visibility": null,
            "align_self": null,
            "height": null,
            "min_height": null,
            "padding": null,
            "grid_auto_rows": null,
            "grid_gap": null,
            "max_width": null,
            "order": null,
            "_view_module_version": "1.2.0",
            "grid_template_areas": null,
            "object_position": null,
            "object_fit": null,
            "grid_auto_columns": null,
            "margin": null,
            "display": null,
            "left": null
          }
        },
        "5a5ced40554a48f2b9e0896abab7bd59": {
          "model_module": "@jupyter-widgets/controls",
          "model_name": "DescriptionStyleModel",
          "model_module_version": "1.5.0",
          "state": {
            "_view_name": "StyleView",
            "_model_name": "DescriptionStyleModel",
            "description_width": "",
            "_view_module": "@jupyter-widgets/base",
            "_model_module_version": "1.5.0",
            "_view_count": null,
            "_view_module_version": "1.2.0",
            "_model_module": "@jupyter-widgets/controls"
          }
        },
        "c492034a583c4136a4fda5efd48975a5": {
          "model_module": "@jupyter-widgets/base",
          "model_name": "LayoutModel",
          "model_module_version": "1.2.0",
          "state": {
            "_view_name": "LayoutView",
            "grid_template_rows": null,
            "right": null,
            "justify_content": null,
            "_view_module": "@jupyter-widgets/base",
            "overflow": null,
            "_model_module_version": "1.2.0",
            "_view_count": null,
            "flex_flow": null,
            "width": null,
            "min_width": null,
            "border": null,
            "align_items": null,
            "bottom": null,
            "_model_module": "@jupyter-widgets/base",
            "top": null,
            "grid_column": null,
            "overflow_y": null,
            "overflow_x": null,
            "grid_auto_flow": null,
            "grid_area": null,
            "grid_template_columns": null,
            "flex": null,
            "_model_name": "LayoutModel",
            "justify_items": null,
            "grid_row": null,
            "max_height": null,
            "align_content": null,
            "visibility": null,
            "align_self": null,
            "height": null,
            "min_height": null,
            "padding": null,
            "grid_auto_rows": null,
            "grid_gap": null,
            "max_width": null,
            "order": null,
            "_view_module_version": "1.2.0",
            "grid_template_areas": null,
            "object_position": null,
            "object_fit": null,
            "grid_auto_columns": null,
            "margin": null,
            "display": null,
            "left": null
          }
        }
      }
    }
  },
  "nbformat": 4,
  "nbformat_minor": 5
}